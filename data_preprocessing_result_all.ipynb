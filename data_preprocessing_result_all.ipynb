{
 "cells": [
  {
   "cell_type": "code",
   "execution_count": 1,
   "id": "82675ac9",
   "metadata": {},
   "outputs": [],
   "source": [
    "import pandas as pd\n",
    "import numpy as np\n",
    "\n",
    "from ipynb.fs.full.data_preprocessing_function import preprocessing_data"
   ]
  },
  {
   "cell_type": "code",
   "execution_count": 2,
   "id": "a03f95a8",
   "metadata": {},
   "outputs": [
    {
     "data": {
      "text/plain": [
       "'P01'"
      ]
     },
     "metadata": {},
     "output_type": "display_data"
    },
    {
     "data": {
      "text/plain": [
       "'P02'"
      ]
     },
     "metadata": {},
     "output_type": "display_data"
    },
    {
     "data": {
      "text/plain": [
       "'P03'"
      ]
     },
     "metadata": {},
     "output_type": "display_data"
    },
    {
     "data": {
      "text/plain": [
       "'P04'"
      ]
     },
     "metadata": {},
     "output_type": "display_data"
    },
    {
     "data": {
      "text/plain": [
       "'P05'"
      ]
     },
     "metadata": {},
     "output_type": "display_data"
    },
    {
     "data": {
      "text/plain": [
       "'P06'"
      ]
     },
     "metadata": {},
     "output_type": "display_data"
    },
    {
     "data": {
      "text/plain": [
       "'P07'"
      ]
     },
     "metadata": {},
     "output_type": "display_data"
    },
    {
     "data": {
      "text/plain": [
       "'P08'"
      ]
     },
     "metadata": {},
     "output_type": "display_data"
    },
    {
     "data": {
      "text/plain": [
       "'P08 extra columns dropped'"
      ]
     },
     "metadata": {},
     "output_type": "display_data"
    },
    {
     "data": {
      "text/plain": [
       "'P09'"
      ]
     },
     "metadata": {},
     "output_type": "display_data"
    },
    {
     "data": {
      "text/plain": [
       "'P10'"
      ]
     },
     "metadata": {},
     "output_type": "display_data"
    },
    {
     "data": {
      "text/plain": [
       "'P11'"
      ]
     },
     "metadata": {},
     "output_type": "display_data"
    },
    {
     "data": {
      "text/plain": [
       "'P12'"
      ]
     },
     "metadata": {},
     "output_type": "display_data"
    },
    {
     "name": "stdout",
     "output_type": "stream",
     "text": [
      "12 exception from loading files\n"
     ]
    },
    {
     "data": {
      "text/plain": [
       "'P13'"
      ]
     },
     "metadata": {},
     "output_type": "display_data"
    },
    {
     "name": "stdout",
     "output_type": "stream",
     "text": [
      "13 exception from loading files\n"
     ]
    },
    {
     "data": {
      "text/plain": [
       "'P14'"
      ]
     },
     "metadata": {},
     "output_type": "display_data"
    },
    {
     "data": {
      "text/plain": [
       "'P14 extra columns dropped'"
      ]
     },
     "metadata": {},
     "output_type": "display_data"
    },
    {
     "data": {
      "text/plain": [
       "'P15'"
      ]
     },
     "metadata": {},
     "output_type": "display_data"
    },
    {
     "data": {
      "text/plain": [
       "'P16'"
      ]
     },
     "metadata": {},
     "output_type": "display_data"
    }
   ],
   "source": [
    "#read data\n",
    "df_list=[]\n",
    "for x in range(1, 17):\n",
    "    person_number = x\n",
    "    \n",
    "    person_number = str('%02d' % person_number)\n",
    "\n",
    "    calories = []\n",
    "    distance = []\n",
    "    l_act = []\n",
    "    m_act = []\n",
    "    r_heart = []\n",
    "    sedentary = []\n",
    "    sleep_score = []\n",
    "    sleep = []\n",
    "    hr_zone = []\n",
    "    v_act = []\n",
    "    wellness = []\n",
    "    display('P'+person_number)\n",
    "    try:\n",
    "        calories = pd.read_json('../osfstorage-archive/pmdata/p'+person_number+'/fitbit/calories.json')\n",
    "        distance = pd.read_json('../osfstorage-archive/pmdata/p'+person_number+'/fitbit/distance.json')\n",
    "        l_act = pd.read_json('../osfstorage-archive/pmdata/p'+person_number+'/fitbit/lightly_active_minutes.json')\n",
    "        m_act = pd.read_json('../osfstorage-archive/pmdata/p'+person_number+'/fitbit/moderately_active_minutes.json')\n",
    "        r_heart = pd.read_json('../osfstorage-archive/pmdata/p'+person_number+'/fitbit/resting_heart_rate.json')\n",
    "        sedentary = pd.read_json('../osfstorage-archive/pmdata/p'+person_number+'/fitbit/sedentary_minutes.json')\n",
    "        sleep_score = pd.read_csv('../osfstorage-archive/pmdata/p'+person_number+'/fitbit/sleep_score.csv')\n",
    "        sleep = pd.read_json('../osfstorage-archive/pmdata/p'+person_number+'/fitbit/sleep.json')\n",
    "        steps = pd.read_json('../osfstorage-archive/pmdata/p'+person_number+'/fitbit/steps.json')\n",
    "        hr_zone = pd.read_json('../osfstorage-archive/pmdata/p'+person_number+'/fitbit/time_in_heart_rate_zones.json')\n",
    "        v_act = pd.read_json('../osfstorage-archive/pmdata/p'+person_number+'/fitbit/very_active_minutes.json')\n",
    "        wellness = pd.read_csv('../osfstorage-archive/pmdata/p'+person_number+'/pmsys/wellness.csv') \n",
    "    \n",
    "        if x in [8,14]:\n",
    "            preprocessing_result = preprocessing_data(person_number, calories, distance, l_act, m_act, r_heart, sedentary, sleep_score, sleep, steps, hr_zone, v_act, wellness)\n",
    "            display('P'+person_number+' extra columns dropped')\n",
    "        else:\n",
    "            preprocessing_result = preprocessing_data(person_number, calories, distance, l_act, m_act, r_heart, sedentary, sleep_score, sleep, steps, hr_zone, v_act, wellness)\n",
    "\n",
    "\n",
    "        df_list.append(preprocessing_result)\n",
    "        \n",
    "    except:\n",
    "        print(person_number+' exception from loading files')\n",
    "        pass\n",
    "        \n",
    "\n",
    "\n"
   ]
  },
  {
   "cell_type": "code",
   "execution_count": 3,
   "id": "ead76d52",
   "metadata": {},
   "outputs": [
    {
     "data": {
      "text/plain": [
       "14"
      ]
     },
     "execution_count": 3,
     "metadata": {},
     "output_type": "execute_result"
    }
   ],
   "source": [
    "len(df_list)"
   ]
  },
  {
   "cell_type": "code",
   "execution_count": 5,
   "id": "c3dfd257",
   "metadata": {},
   "outputs": [],
   "source": [
    "agg_df = pd.concat(df_list) #aggregate participants' data"
   ]
  },
  {
   "cell_type": "code",
   "execution_count": 7,
   "id": "64c68cc6",
   "metadata": {},
   "outputs": [],
   "source": [
    "agg_df = agg_df.dropna(subset=['readiness']) #drop where readiness has nan value"
   ]
  },
  {
   "cell_type": "code",
   "execution_count": 17,
   "id": "0916a815",
   "metadata": {},
   "outputs": [
    {
     "name": "stdout",
     "output_type": "stream",
     "text": [
      "readiness: False\n",
      "calories: True\n",
      "distance: True\n",
      "l_act: False\n",
      "m_act: False\n",
      "resting_heart: True\n",
      "sedentary: False\n",
      "sleep_overall_score: True\n",
      "sleep_composition_score: True\n",
      "sleep_revitalization_score: True\n",
      "sleep_duration_score: True\n",
      "deep_sleep_in_minutes: True\n",
      "sleep_resting_heart_rate: True\n",
      "sleep_restlessness: True\n",
      "sleep_duration: True\n",
      "sleep_minutesToFallAsleep: True\n",
      "sleep_minutesAsleep: True\n",
      "sleep_minutesAwake: True\n",
      "sleep_minutesAfterWakeup: True\n",
      "sleep_timeInBed: True\n",
      "sleep_efficiency: True\n",
      "main_sleep: True\n",
      "steps: True\n",
      "hr_below_zone1: True\n",
      "hr_zone1: True\n",
      "hr_zone3: True\n",
      "hr_zone2: True\n",
      "v_act: False\n"
     ]
    }
   ],
   "source": [
    "for x in [i for i in agg_df.columns]:\n",
    "    print(f'{x}: {agg_df[x].isnull().values.any()}')"
   ]
  },
  {
   "cell_type": "code",
   "execution_count": null,
   "id": "9051c392",
   "metadata": {},
   "outputs": [],
   "source": []
  },
  {
   "cell_type": "code",
   "execution_count": null,
   "id": "01f3a7c6",
   "metadata": {},
   "outputs": [],
   "source": []
  },
  {
   "cell_type": "code",
   "execution_count": null,
   "id": "962aeebb",
   "metadata": {},
   "outputs": [],
   "source": []
  }
 ],
 "metadata": {
  "kernelspec": {
   "display_name": "Python 3 (ipykernel)",
   "language": "python",
   "name": "python3"
  },
  "language_info": {
   "codemirror_mode": {
    "name": "ipython",
    "version": 3
   },
   "file_extension": ".py",
   "mimetype": "text/x-python",
   "name": "python",
   "nbconvert_exporter": "python",
   "pygments_lexer": "ipython3",
   "version": "3.9.7"
  }
 },
 "nbformat": 4,
 "nbformat_minor": 5
}
