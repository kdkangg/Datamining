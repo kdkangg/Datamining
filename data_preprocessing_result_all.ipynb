{
 "cells": [
  {
   "cell_type": "code",
   "execution_count": 1,
   "id": "82675ac9",
   "metadata": {},
   "outputs": [],
   "source": [
    "import pandas as pd\n",
    "import numpy as np\n",
    "\n",
    "from ipynb.fs.full.data_preprocessing_function import preprocessing_data"
   ]
  },
  {
   "cell_type": "code",
   "execution_count": 2,
   "id": "a03f95a8",
   "metadata": {},
   "outputs": [
    {
     "data": {
      "text/plain": [
       "'P01'"
      ]
     },
     "metadata": {},
     "output_type": "display_data"
    },
    {
     "data": {
      "text/plain": [
       "'P02'"
      ]
     },
     "metadata": {},
     "output_type": "display_data"
    },
    {
     "data": {
      "text/plain": [
       "'P03'"
      ]
     },
     "metadata": {},
     "output_type": "display_data"
    },
    {
     "data": {
      "text/plain": [
       "'P04'"
      ]
     },
     "metadata": {},
     "output_type": "display_data"
    },
    {
     "data": {
      "text/plain": [
       "'P05'"
      ]
     },
     "metadata": {},
     "output_type": "display_data"
    },
    {
     "data": {
      "text/plain": [
       "'P06'"
      ]
     },
     "metadata": {},
     "output_type": "display_data"
    },
    {
     "data": {
      "text/plain": [
       "'P07'"
      ]
     },
     "metadata": {},
     "output_type": "display_data"
    },
    {
     "data": {
      "text/plain": [
       "'P08'"
      ]
     },
     "metadata": {},
     "output_type": "display_data"
    },
    {
     "data": {
      "text/plain": [
       "'P08 extra columns dropped'"
      ]
     },
     "metadata": {},
     "output_type": "display_data"
    },
    {
     "data": {
      "text/plain": [
       "'P09'"
      ]
     },
     "metadata": {},
     "output_type": "display_data"
    },
    {
     "data": {
      "text/plain": [
       "'P10'"
      ]
     },
     "metadata": {},
     "output_type": "display_data"
    },
    {
     "data": {
      "text/plain": [
       "'P11'"
      ]
     },
     "metadata": {},
     "output_type": "display_data"
    },
    {
     "data": {
      "text/plain": [
       "'P12'"
      ]
     },
     "metadata": {},
     "output_type": "display_data"
    },
    {
     "name": "stdout",
     "output_type": "stream",
     "text": [
      "12 exception from loading files\n"
     ]
    },
    {
     "data": {
      "text/plain": [
       "'P13'"
      ]
     },
     "metadata": {},
     "output_type": "display_data"
    },
    {
     "name": "stdout",
     "output_type": "stream",
     "text": [
      "13 exception from loading files\n"
     ]
    },
    {
     "data": {
      "text/plain": [
       "'P14'"
      ]
     },
     "metadata": {},
     "output_type": "display_data"
    },
    {
     "data": {
      "text/plain": [
       "'P14 extra columns dropped'"
      ]
     },
     "metadata": {},
     "output_type": "display_data"
    },
    {
     "data": {
      "text/plain": [
       "'P15'"
      ]
     },
     "metadata": {},
     "output_type": "display_data"
    },
    {
     "data": {
      "text/plain": [
       "'P16'"
      ]
     },
     "metadata": {},
     "output_type": "display_data"
    }
   ],
   "source": [
    "#read data\n",
    "df_list=[]\n",
    "for x in range(1, 17):\n",
    "    person_number = x\n",
    "    \n",
    "    person_number = str('%02d' % person_number)\n",
    "\n",
    "    calories = []\n",
    "    distance = []\n",
    "    l_act = []\n",
    "    m_act = []\n",
    "    r_heart = []\n",
    "    sedentary = []\n",
    "    sleep_score = []\n",
    "    sleep = []\n",
    "    hr_zone = []\n",
    "    v_act = []\n",
    "    wellness = []\n",
    "    display('P'+person_number)\n",
    "    try:\n",
    "        calories = pd.read_json('../osfstorage-archive/pmdata/p'+person_number+'/fitbit/calories.json')\n",
    "        distance = pd.read_json('../osfstorage-archive/pmdata/p'+person_number+'/fitbit/distance.json')\n",
    "        l_act = pd.read_json('../osfstorage-archive/pmdata/p'+person_number+'/fitbit/lightly_active_minutes.json')\n",
    "        m_act = pd.read_json('../osfstorage-archive/pmdata/p'+person_number+'/fitbit/moderately_active_minutes.json')\n",
    "        r_heart = pd.read_json('../osfstorage-archive/pmdata/p'+person_number+'/fitbit/resting_heart_rate.json')\n",
    "        sedentary = pd.read_json('../osfstorage-archive/pmdata/p'+person_number+'/fitbit/sedentary_minutes.json')\n",
    "        sleep_score = pd.read_csv('../osfstorage-archive/pmdata/p'+person_number+'/fitbit/sleep_score.csv')\n",
    "        sleep = pd.read_json('../osfstorage-archive/pmdata/p'+person_number+'/fitbit/sleep.json')\n",
    "        steps = pd.read_json('../osfstorage-archive/pmdata/p'+person_number+'/fitbit/steps.json')\n",
    "        hr_zone = pd.read_json('../osfstorage-archive/pmdata/p'+person_number+'/fitbit/time_in_heart_rate_zones.json')\n",
    "        v_act = pd.read_json('../osfstorage-archive/pmdata/p'+person_number+'/fitbit/very_active_minutes.json')\n",
    "        wellness = pd.read_csv('../osfstorage-archive/pmdata/p'+person_number+'/pmsys/wellness.csv') \n",
    "    \n",
    "        if x in [8,14]:\n",
    "            preprocessing_result = preprocessing_data(person_number, calories, distance, l_act, m_act, r_heart, sedentary, sleep_score, sleep, steps, hr_zone, v_act, wellness)\n",
    "            display('P'+person_number+' extra columns dropped')\n",
    "        else:\n",
    "            preprocessing_result = preprocessing_data(person_number, calories, distance, l_act, m_act, r_heart, sedentary, sleep_score, sleep, steps, hr_zone, v_act, wellness)\n",
    "\n",
    "\n",
    "        df_list.append(preprocessing_result)\n",
    "        \n",
    "    except:\n",
    "        print(person_number+' exception from loading files')\n",
    "        pass\n",
    "        \n",
    "\n",
    "\n"
   ]
  },
  {
   "cell_type": "code",
   "execution_count": 3,
   "id": "610f1b5b",
   "metadata": {},
   "outputs": [
    {
     "data": {
      "text/plain": [
       "14"
      ]
     },
     "execution_count": 3,
     "metadata": {},
     "output_type": "execute_result"
    }
   ],
   "source": [
    "len(df_list)"
   ]
  },
  {
   "cell_type": "code",
   "execution_count": 4,
   "id": "1356e263",
   "metadata": {},
   "outputs": [
    {
     "data": {
      "text/html": [
       "<div>\n",
       "<style scoped>\n",
       "    .dataframe tbody tr th:only-of-type {\n",
       "        vertical-align: middle;\n",
       "    }\n",
       "\n",
       "    .dataframe tbody tr th {\n",
       "        vertical-align: top;\n",
       "    }\n",
       "\n",
       "    .dataframe thead th {\n",
       "        text-align: right;\n",
       "    }\n",
       "</style>\n",
       "<table border=\"1\" class=\"dataframe\">\n",
       "  <thead>\n",
       "    <tr style=\"text-align: right;\">\n",
       "      <th></th>\n",
       "      <th>readiness</th>\n",
       "      <th>calories</th>\n",
       "      <th>distance</th>\n",
       "      <th>l_act</th>\n",
       "      <th>m_act</th>\n",
       "      <th>resting_heart</th>\n",
       "      <th>sedentary</th>\n",
       "      <th>sleep_overall_score</th>\n",
       "      <th>sleep_composition_score</th>\n",
       "      <th>sleep_revitalization_score</th>\n",
       "      <th>...</th>\n",
       "      <th>sleep_minutesAfterWakeup</th>\n",
       "      <th>sleep_timeInBed</th>\n",
       "      <th>sleep_efficiency</th>\n",
       "      <th>main_sleep</th>\n",
       "      <th>steps</th>\n",
       "      <th>hr_below_zone1</th>\n",
       "      <th>hr_zone1</th>\n",
       "      <th>hr_zone3</th>\n",
       "      <th>hr_zone2</th>\n",
       "      <th>v_act</th>\n",
       "    </tr>\n",
       "  </thead>\n",
       "  <tbody>\n",
       "    <tr>\n",
       "      <th>2019-11-01</th>\n",
       "      <td>5.0</td>\n",
       "      <td>4009.10</td>\n",
       "      <td>1442400.0</td>\n",
       "      <td>245.0</td>\n",
       "      <td>58.0</td>\n",
       "      <td>53.741074</td>\n",
       "      <td>636.0</td>\n",
       "      <td>76.0</td>\n",
       "      <td>18.0</td>\n",
       "      <td>20.0</td>\n",
       "      <td>...</td>\n",
       "      <td>NaN</td>\n",
       "      <td>NaN</td>\n",
       "      <td>NaN</td>\n",
       "      <td>NaN</td>\n",
       "      <td>17873.0</td>\n",
       "      <td>1254.0</td>\n",
       "      <td>164.0</td>\n",
       "      <td>0.0</td>\n",
       "      <td>3.0</td>\n",
       "      <td>72.0</td>\n",
       "    </tr>\n",
       "    <tr>\n",
       "      <th>2019-11-02</th>\n",
       "      <td>6.0</td>\n",
       "      <td>3533.56</td>\n",
       "      <td>1058480.0</td>\n",
       "      <td>202.0</td>\n",
       "      <td>43.0</td>\n",
       "      <td>52.881497</td>\n",
       "      <td>709.0</td>\n",
       "      <td>79.0</td>\n",
       "      <td>20.0</td>\n",
       "      <td>22.0</td>\n",
       "      <td>...</td>\n",
       "      <td>0.0</td>\n",
       "      <td>430.0</td>\n",
       "      <td>97.0</td>\n",
       "      <td>1.0</td>\n",
       "      <td>13118.0</td>\n",
       "      <td>1262.0</td>\n",
       "      <td>137.0</td>\n",
       "      <td>0.0</td>\n",
       "      <td>0.0</td>\n",
       "      <td>56.0</td>\n",
       "    </tr>\n",
       "    <tr>\n",
       "      <th>2019-11-03</th>\n",
       "      <td>8.0</td>\n",
       "      <td>3748.73</td>\n",
       "      <td>1146085.0</td>\n",
       "      <td>262.0</td>\n",
       "      <td>63.0</td>\n",
       "      <td>53.222024</td>\n",
       "      <td>648.0</td>\n",
       "      <td>71.0</td>\n",
       "      <td>16.0</td>\n",
       "      <td>17.0</td>\n",
       "      <td>...</td>\n",
       "      <td>0.0</td>\n",
       "      <td>422.0</td>\n",
       "      <td>96.0</td>\n",
       "      <td>1.0</td>\n",
       "      <td>14312.0</td>\n",
       "      <td>1218.0</td>\n",
       "      <td>141.0</td>\n",
       "      <td>0.0</td>\n",
       "      <td>0.0</td>\n",
       "      <td>45.0</td>\n",
       "    </tr>\n",
       "    <tr>\n",
       "      <th>2019-11-04</th>\n",
       "      <td>8.0</td>\n",
       "      <td>3353.38</td>\n",
       "      <td>885970.0</td>\n",
       "      <td>230.0</td>\n",
       "      <td>23.0</td>\n",
       "      <td>54.311141</td>\n",
       "      <td>760.0</td>\n",
       "      <td>68.0</td>\n",
       "      <td>15.0</td>\n",
       "      <td>15.0</td>\n",
       "      <td>...</td>\n",
       "      <td>0.0</td>\n",
       "      <td>399.0</td>\n",
       "      <td>96.0</td>\n",
       "      <td>1.0</td>\n",
       "      <td>10970.0</td>\n",
       "      <td>1315.0</td>\n",
       "      <td>100.0</td>\n",
       "      <td>0.0</td>\n",
       "      <td>0.0</td>\n",
       "      <td>28.0</td>\n",
       "    </tr>\n",
       "    <tr>\n",
       "      <th>2019-11-05</th>\n",
       "      <td>8.0</td>\n",
       "      <td>3794.63</td>\n",
       "      <td>1371470.0</td>\n",
       "      <td>263.0</td>\n",
       "      <td>22.0</td>\n",
       "      <td>52.259110</td>\n",
       "      <td>737.0</td>\n",
       "      <td>73.0</td>\n",
       "      <td>15.0</td>\n",
       "      <td>22.0</td>\n",
       "      <td>...</td>\n",
       "      <td>1.0</td>\n",
       "      <td>362.0</td>\n",
       "      <td>99.0</td>\n",
       "      <td>1.0</td>\n",
       "      <td>16186.0</td>\n",
       "      <td>1300.0</td>\n",
       "      <td>94.0</td>\n",
       "      <td>12.0</td>\n",
       "      <td>7.0</td>\n",
       "      <td>56.0</td>\n",
       "    </tr>\n",
       "    <tr>\n",
       "      <th>...</th>\n",
       "      <td>...</td>\n",
       "      <td>...</td>\n",
       "      <td>...</td>\n",
       "      <td>...</td>\n",
       "      <td>...</td>\n",
       "      <td>...</td>\n",
       "      <td>...</td>\n",
       "      <td>...</td>\n",
       "      <td>...</td>\n",
       "      <td>...</td>\n",
       "      <td>...</td>\n",
       "      <td>...</td>\n",
       "      <td>...</td>\n",
       "      <td>...</td>\n",
       "      <td>...</td>\n",
       "      <td>...</td>\n",
       "      <td>...</td>\n",
       "      <td>...</td>\n",
       "      <td>...</td>\n",
       "      <td>...</td>\n",
       "      <td>...</td>\n",
       "    </tr>\n",
       "    <tr>\n",
       "      <th>2020-03-27</th>\n",
       "      <td>NaN</td>\n",
       "      <td>2094.91</td>\n",
       "      <td>155900.0</td>\n",
       "      <td>93.0</td>\n",
       "      <td>4.0</td>\n",
       "      <td>68.890767</td>\n",
       "      <td>822.0</td>\n",
       "      <td>86.0</td>\n",
       "      <td>24.0</td>\n",
       "      <td>20.0</td>\n",
       "      <td>...</td>\n",
       "      <td>0.0</td>\n",
       "      <td>516.0</td>\n",
       "      <td>92.0</td>\n",
       "      <td>1.0</td>\n",
       "      <td>2070.0</td>\n",
       "      <td>1317.0</td>\n",
       "      <td>2.0</td>\n",
       "      <td>49.0</td>\n",
       "      <td>0.0</td>\n",
       "      <td>5.0</td>\n",
       "    </tr>\n",
       "    <tr>\n",
       "      <th>2020-03-28</th>\n",
       "      <td>NaN</td>\n",
       "      <td>1867.24</td>\n",
       "      <td>44180.0</td>\n",
       "      <td>52.0</td>\n",
       "      <td>0.0</td>\n",
       "      <td>68.036634</td>\n",
       "      <td>920.0</td>\n",
       "      <td>83.0</td>\n",
       "      <td>21.0</td>\n",
       "      <td>22.0</td>\n",
       "      <td>...</td>\n",
       "      <td>4.0</td>\n",
       "      <td>468.0</td>\n",
       "      <td>95.0</td>\n",
       "      <td>1.0</td>\n",
       "      <td>589.0</td>\n",
       "      <td>1426.0</td>\n",
       "      <td>0.0</td>\n",
       "      <td>7.0</td>\n",
       "      <td>0.0</td>\n",
       "      <td>0.0</td>\n",
       "    </tr>\n",
       "    <tr>\n",
       "      <th>2020-03-29</th>\n",
       "      <td>NaN</td>\n",
       "      <td>1973.38</td>\n",
       "      <td>129020.0</td>\n",
       "      <td>90.0</td>\n",
       "      <td>0.0</td>\n",
       "      <td>66.626012</td>\n",
       "      <td>830.0</td>\n",
       "      <td>83.0</td>\n",
       "      <td>20.0</td>\n",
       "      <td>23.0</td>\n",
       "      <td>...</td>\n",
       "      <td>10.0</td>\n",
       "      <td>520.0</td>\n",
       "      <td>96.0</td>\n",
       "      <td>1.0</td>\n",
       "      <td>1714.0</td>\n",
       "      <td>1268.0</td>\n",
       "      <td>0.0</td>\n",
       "      <td>17.0</td>\n",
       "      <td>0.0</td>\n",
       "      <td>0.0</td>\n",
       "    </tr>\n",
       "    <tr>\n",
       "      <th>2020-03-30</th>\n",
       "      <td>NaN</td>\n",
       "      <td>2010.45</td>\n",
       "      <td>131240.0</td>\n",
       "      <td>69.0</td>\n",
       "      <td>9.0</td>\n",
       "      <td>65.947171</td>\n",
       "      <td>814.0</td>\n",
       "      <td>89.0</td>\n",
       "      <td>22.0</td>\n",
       "      <td>21.0</td>\n",
       "      <td>...</td>\n",
       "      <td>1.0</td>\n",
       "      <td>544.0</td>\n",
       "      <td>94.0</td>\n",
       "      <td>1.0</td>\n",
       "      <td>1773.0</td>\n",
       "      <td>1310.0</td>\n",
       "      <td>0.0</td>\n",
       "      <td>37.0</td>\n",
       "      <td>0.0</td>\n",
       "      <td>4.0</td>\n",
       "    </tr>\n",
       "    <tr>\n",
       "      <th>2020-03-31</th>\n",
       "      <td>NaN</td>\n",
       "      <td>1950.59</td>\n",
       "      <td>58320.0</td>\n",
       "      <td>67.0</td>\n",
       "      <td>0.0</td>\n",
       "      <td>65.907543</td>\n",
       "      <td>932.0</td>\n",
       "      <td>NaN</td>\n",
       "      <td>NaN</td>\n",
       "      <td>NaN</td>\n",
       "      <td>...</td>\n",
       "      <td>0.0</td>\n",
       "      <td>441.0</td>\n",
       "      <td>95.0</td>\n",
       "      <td>1.0</td>\n",
       "      <td>777.0</td>\n",
       "      <td>1333.0</td>\n",
       "      <td>0.0</td>\n",
       "      <td>15.0</td>\n",
       "      <td>0.0</td>\n",
       "      <td>0.0</td>\n",
       "    </tr>\n",
       "  </tbody>\n",
       "</table>\n",
       "<p>2094 rows × 28 columns</p>\n",
       "</div>"
      ],
      "text/plain": [
       "            readiness  calories   distance  l_act  m_act  resting_heart  \\\n",
       "2019-11-01        5.0   4009.10  1442400.0  245.0   58.0      53.741074   \n",
       "2019-11-02        6.0   3533.56  1058480.0  202.0   43.0      52.881497   \n",
       "2019-11-03        8.0   3748.73  1146085.0  262.0   63.0      53.222024   \n",
       "2019-11-04        8.0   3353.38   885970.0  230.0   23.0      54.311141   \n",
       "2019-11-05        8.0   3794.63  1371470.0  263.0   22.0      52.259110   \n",
       "...               ...       ...        ...    ...    ...            ...   \n",
       "2020-03-27        NaN   2094.91   155900.0   93.0    4.0      68.890767   \n",
       "2020-03-28        NaN   1867.24    44180.0   52.0    0.0      68.036634   \n",
       "2020-03-29        NaN   1973.38   129020.0   90.0    0.0      66.626012   \n",
       "2020-03-30        NaN   2010.45   131240.0   69.0    9.0      65.947171   \n",
       "2020-03-31        NaN   1950.59    58320.0   67.0    0.0      65.907543   \n",
       "\n",
       "            sedentary  sleep_overall_score  sleep_composition_score  \\\n",
       "2019-11-01      636.0                 76.0                     18.0   \n",
       "2019-11-02      709.0                 79.0                     20.0   \n",
       "2019-11-03      648.0                 71.0                     16.0   \n",
       "2019-11-04      760.0                 68.0                     15.0   \n",
       "2019-11-05      737.0                 73.0                     15.0   \n",
       "...               ...                  ...                      ...   \n",
       "2020-03-27      822.0                 86.0                     24.0   \n",
       "2020-03-28      920.0                 83.0                     21.0   \n",
       "2020-03-29      830.0                 83.0                     20.0   \n",
       "2020-03-30      814.0                 89.0                     22.0   \n",
       "2020-03-31      932.0                  NaN                      NaN   \n",
       "\n",
       "            sleep_revitalization_score  ...  sleep_minutesAfterWakeup  \\\n",
       "2019-11-01                        20.0  ...                       NaN   \n",
       "2019-11-02                        22.0  ...                       0.0   \n",
       "2019-11-03                        17.0  ...                       0.0   \n",
       "2019-11-04                        15.0  ...                       0.0   \n",
       "2019-11-05                        22.0  ...                       1.0   \n",
       "...                                ...  ...                       ...   \n",
       "2020-03-27                        20.0  ...                       0.0   \n",
       "2020-03-28                        22.0  ...                       4.0   \n",
       "2020-03-29                        23.0  ...                      10.0   \n",
       "2020-03-30                        21.0  ...                       1.0   \n",
       "2020-03-31                         NaN  ...                       0.0   \n",
       "\n",
       "            sleep_timeInBed  sleep_efficiency  main_sleep    steps  \\\n",
       "2019-11-01              NaN               NaN         NaN  17873.0   \n",
       "2019-11-02            430.0              97.0         1.0  13118.0   \n",
       "2019-11-03            422.0              96.0         1.0  14312.0   \n",
       "2019-11-04            399.0              96.0         1.0  10970.0   \n",
       "2019-11-05            362.0              99.0         1.0  16186.0   \n",
       "...                     ...               ...         ...      ...   \n",
       "2020-03-27            516.0              92.0         1.0   2070.0   \n",
       "2020-03-28            468.0              95.0         1.0    589.0   \n",
       "2020-03-29            520.0              96.0         1.0   1714.0   \n",
       "2020-03-30            544.0              94.0         1.0   1773.0   \n",
       "2020-03-31            441.0              95.0         1.0    777.0   \n",
       "\n",
       "            hr_below_zone1  hr_zone1  hr_zone3  hr_zone2  v_act  \n",
       "2019-11-01          1254.0     164.0       0.0       3.0   72.0  \n",
       "2019-11-02          1262.0     137.0       0.0       0.0   56.0  \n",
       "2019-11-03          1218.0     141.0       0.0       0.0   45.0  \n",
       "2019-11-04          1315.0     100.0       0.0       0.0   28.0  \n",
       "2019-11-05          1300.0      94.0      12.0       7.0   56.0  \n",
       "...                    ...       ...       ...       ...    ...  \n",
       "2020-03-27          1317.0       2.0      49.0       0.0    5.0  \n",
       "2020-03-28          1426.0       0.0       7.0       0.0    0.0  \n",
       "2020-03-29          1268.0       0.0      17.0       0.0    0.0  \n",
       "2020-03-30          1310.0       0.0      37.0       0.0    4.0  \n",
       "2020-03-31          1333.0       0.0      15.0       0.0    0.0  \n",
       "\n",
       "[2094 rows x 28 columns]"
      ]
     },
     "execution_count": 4,
     "metadata": {},
     "output_type": "execute_result"
    }
   ],
   "source": [
    "pd.concat(df_list)"
   ]
  },
  {
   "cell_type": "code",
   "execution_count": null,
   "id": "b4cb620a",
   "metadata": {},
   "outputs": [],
   "source": []
  }
 ],
 "metadata": {
  "kernelspec": {
   "display_name": "Python 3 (ipykernel)",
   "language": "python",
   "name": "python3"
  },
  "language_info": {
   "codemirror_mode": {
    "name": "ipython",
    "version": 3
   },
   "file_extension": ".py",
   "mimetype": "text/x-python",
   "name": "python",
   "nbconvert_exporter": "python",
   "pygments_lexer": "ipython3",
   "version": "3.9.7"
  }
 },
 "nbformat": 4,
 "nbformat_minor": 5
}
