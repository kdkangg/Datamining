{
 "cells": [
  {
   "cell_type": "code",
   "execution_count": 1,
   "id": "aa0e5438",
   "metadata": {},
   "outputs": [],
   "source": [
    "from sklearn.ensemble import RandomForestClassifier\n",
    "from sklearn.model_selection import KFold\n",
    "from sklearn.model_selection import GridSearchCV\n",
    "from sklearn.metrics import f1_score, precision_score, recall_score, classification_report\n",
    "import numpy as np\n",
    "import pandas as pd\n",
    "from sklearn.metrics import confusion_matrix\n",
    "import matplotlib.pyplot as plt\n",
    "import seaborn as sns\n",
    "\n",
    "import warnings\n",
    "warnings.filterwarnings('ignore')"
   ]
  },
  {
   "cell_type": "code",
   "execution_count": 2,
   "id": "cc8ce9ac",
   "metadata": {},
   "outputs": [],
   "source": [
    "X_train = pd.read_csv('agg_Xtrain.csv').set_index('Unnamed: 0')\n",
    "X_test = pd.read_csv('agg_Xtest.csv').set_index('Unnamed: 0')\n",
    "y_train = pd.read_csv('agg_ytrain.csv').set_index('Unnamed: 0')\n",
    "y_test = pd.read_csv('agg_ytest.csv').set_index('Unnamed: 0')"
   ]
  },
  {
   "cell_type": "code",
   "execution_count": 3,
   "id": "1817d180",
   "metadata": {},
   "outputs": [],
   "source": [
    "#hyperparameter tuning\n",
    "\n",
    "Kcv = KFold(n_splits=10)\n",
    "parameters = {'n_estimators':[5,20,50,100,150],\n",
    "              'criterion':['gini','entropy'],\n",
    "              #'max_depth':[10*i for i in range(1,13)],\n",
    "              #'min_samples_split' :[2,6,10],\n",
    "              #'min_samples_leaf' :[1,2,4],\n",
    "              'bootstrap' : [True, False]\n",
    "              \n",
    "}\n",
    "\n",
    "model = RandomForestClassifier()\n",
    "cv = GridSearchCV(model, param_grid=parameters, cv=Kcv)"
   ]
  },
  {
   "cell_type": "code",
   "execution_count": null,
   "id": "c83853b0",
   "metadata": {},
   "outputs": [],
   "source": [
    "%%time\n",
    "#best params found by grid search\n",
    "cv.fit(X_train,y_train)\n",
    "cv.best_params_"
   ]
  },
  {
   "cell_type": "code",
   "execution_count": null,
   "id": "95b0dab9",
   "metadata": {},
   "outputs": [],
   "source": [
    "%%time\n",
    "model.set_params(**cv.best_params_)\n",
    "model.fit(X_train,y_train)\n",
    "pred = model.predict(X_test)\n",
    "f1 = f1_score(y_test, pred, average='weighted') # which average to use??\n",
    "precision = precision_score(y_test, pred, average='weighted')\n",
    "recall = recall_score(y_test, pred, average='weighted')\n",
    "\n",
    "print(f\"precision: {precision}, recall: {recall}, f1score: {f1}\")"
   ]
  },
  {
   "cell_type": "code",
   "execution_count": null,
   "id": "b540ea3f",
   "metadata": {},
   "outputs": [],
   "source": [
    "#plot result\n",
    "\n",
    "matrix = confusion_matrix(y_test, pred)\n",
    "matrix_normalized = confusion_matrix(y_test, pred, normalize='true')\n",
    "\n",
    "fig1, ax = plt.subplots(figsize=(10,10))\n",
    "sns.heatmap(matrix, annot=True, fmt='.2f')\n",
    "plt.title('Confusion matrix without normalization')\n",
    "plt.ylabel('Actual')\n",
    "plt.xlabel('Predicted')\n",
    "\n",
    "fig2, ax = plt.subplots(figsize=(10,10))\n",
    "sns.heatmap(matrix_normalized, annot=True, fmt='.2f')\n",
    "plt.title('Confusion matrix with normalization')\n",
    "plt.ylabel('Actual')\n",
    "plt.xlabel('Predicted')\n",
    "plt.show()\n",
    "\n"
   ]
  },
  {
   "cell_type": "code",
   "execution_count": null,
   "id": "666eec13",
   "metadata": {},
   "outputs": [],
   "source": [
    "#feature importance\n",
    "importance = model.feature_importances_\n",
    "\n",
    "fig = plt.figure(figsize=(10,10))\n",
    "plt.bar(X_test.columns, importance)\n",
    "plt.xticks(rotation=40, ha = 'right')\n",
    "plt.show()"
   ]
  },
  {
   "cell_type": "code",
   "execution_count": null,
   "id": "a365d4b6",
   "metadata": {},
   "outputs": [],
   "source": [
    "print('training data')\n",
    "print(classification_report(y_train, model.predict(X_train)))\n",
    "\n",
    "print('test data')\n",
    "print(classification_report(y_test, model.predict(X_test)))"
   ]
  },
  {
   "cell_type": "code",
   "execution_count": null,
   "id": "3441e9a6",
   "metadata": {},
   "outputs": [],
   "source": []
  }
 ],
 "metadata": {
  "kernelspec": {
   "display_name": "Python 3 (ipykernel)",
   "language": "python",
   "name": "python3"
  },
  "language_info": {
   "codemirror_mode": {
    "name": "ipython",
    "version": 3
   },
   "file_extension": ".py",
   "mimetype": "text/x-python",
   "name": "python",
   "nbconvert_exporter": "python",
   "pygments_lexer": "ipython3",
   "version": "3.9.7"
  }
 },
 "nbformat": 4,
 "nbformat_minor": 5
}
