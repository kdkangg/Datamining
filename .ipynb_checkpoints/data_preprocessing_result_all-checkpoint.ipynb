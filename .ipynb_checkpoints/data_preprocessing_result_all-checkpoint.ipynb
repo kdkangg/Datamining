{
 "cells": [
  {
   "cell_type": "code",
   "execution_count": 1,
   "id": "82675ac9",
   "metadata": {},
   "outputs": [],
   "source": [
    "import pandas as pd\n",
    "import numpy as np\n",
    "\n",
    "from ipynb.fs.full.data_preprocessing_function import preprocessing_data"
   ]
  },
  {
   "cell_type": "code",
   "execution_count": 2,
   "id": "a03f95a8",
   "metadata": {},
   "outputs": [
    {
     "data": {
      "text/plain": [
       "'P01'"
      ]
     },
     "metadata": {},
     "output_type": "display_data"
    },
    {
     "data": {
      "text/plain": [
       "'P02'"
      ]
     },
     "metadata": {},
     "output_type": "display_data"
    },
    {
     "data": {
      "text/plain": [
       "'P03'"
      ]
     },
     "metadata": {},
     "output_type": "display_data"
    },
    {
     "data": {
      "text/plain": [
       "'P04'"
      ]
     },
     "metadata": {},
     "output_type": "display_data"
    },
    {
     "data": {
      "text/plain": [
       "'P05'"
      ]
     },
     "metadata": {},
     "output_type": "display_data"
    },
    {
     "data": {
      "text/plain": [
       "'P06'"
      ]
     },
     "metadata": {},
     "output_type": "display_data"
    },
    {
     "data": {
      "text/plain": [
       "'P07'"
      ]
     },
     "metadata": {},
     "output_type": "display_data"
    },
    {
     "data": {
      "text/plain": [
       "'P08'"
      ]
     },
     "metadata": {},
     "output_type": "display_data"
    },
    {
     "data": {
      "text/plain": [
       "'P08 extra columns dropped'"
      ]
     },
     "metadata": {},
     "output_type": "display_data"
    },
    {
     "data": {
      "text/plain": [
       "'P09'"
      ]
     },
     "metadata": {},
     "output_type": "display_data"
    },
    {
     "data": {
      "text/plain": [
       "'P10'"
      ]
     },
     "metadata": {},
     "output_type": "display_data"
    },
    {
     "data": {
      "text/plain": [
       "'P11'"
      ]
     },
     "metadata": {},
     "output_type": "display_data"
    },
    {
     "data": {
      "text/plain": [
       "'P12'"
      ]
     },
     "metadata": {},
     "output_type": "display_data"
    },
    {
     "name": "stdout",
     "output_type": "stream",
     "text": [
      "12 exception from loading files\n"
     ]
    },
    {
     "data": {
      "text/plain": [
       "'P13'"
      ]
     },
     "metadata": {},
     "output_type": "display_data"
    },
    {
     "name": "stdout",
     "output_type": "stream",
     "text": [
      "13 exception from loading files\n"
     ]
    },
    {
     "data": {
      "text/plain": [
       "'P14'"
      ]
     },
     "metadata": {},
     "output_type": "display_data"
    },
    {
     "data": {
      "text/plain": [
       "'P14 extra columns dropped'"
      ]
     },
     "metadata": {},
     "output_type": "display_data"
    },
    {
     "data": {
      "text/plain": [
       "'P15'"
      ]
     },
     "metadata": {},
     "output_type": "display_data"
    },
    {
     "data": {
      "text/plain": [
       "'P16'"
      ]
     },
     "metadata": {},
     "output_type": "display_data"
    }
   ],
   "source": [
    "#read data\n",
    "df_list=[]\n",
    "for x in range(1, 17):\n",
    "    person_number = x\n",
    "    \n",
    "    person_number = str('%02d' % person_number)\n",
    "\n",
    "    calories = []\n",
    "    distance = []\n",
    "    l_act = []\n",
    "    m_act = []\n",
    "    r_heart = []\n",
    "    sedentary = []\n",
    "    sleep_score = []\n",
    "    sleep = []\n",
    "    hr_zone = []\n",
    "    v_act = []\n",
    "    wellness = []\n",
    "    display('P'+person_number)\n",
    "    try:\n",
    "        calories = pd.read_json('../osfstorage-archive/pmdata/p'+person_number+'/fitbit/calories.json')\n",
    "        distance = pd.read_json('../osfstorage-archive/pmdata/p'+person_number+'/fitbit/distance.json')\n",
    "        l_act = pd.read_json('../osfstorage-archive/pmdata/p'+person_number+'/fitbit/lightly_active_minutes.json')\n",
    "        m_act = pd.read_json('../osfstorage-archive/pmdata/p'+person_number+'/fitbit/moderately_active_minutes.json')\n",
    "        r_heart = pd.read_json('../osfstorage-archive/pmdata/p'+person_number+'/fitbit/resting_heart_rate.json')\n",
    "        sedentary = pd.read_json('../osfstorage-archive/pmdata/p'+person_number+'/fitbit/sedentary_minutes.json')\n",
    "        sleep_score = pd.read_csv('../osfstorage-archive/pmdata/p'+person_number+'/fitbit/sleep_score.csv')\n",
    "        sleep = pd.read_json('../osfstorage-archive/pmdata/p'+person_number+'/fitbit/sleep.json')\n",
    "        steps = pd.read_json('../osfstorage-archive/pmdata/p'+person_number+'/fitbit/steps.json')\n",
    "        hr_zone = pd.read_json('../osfstorage-archive/pmdata/p'+person_number+'/fitbit/time_in_heart_rate_zones.json')\n",
    "        v_act = pd.read_json('../osfstorage-archive/pmdata/p'+person_number+'/fitbit/very_active_minutes.json')\n",
    "        wellness = pd.read_csv('../osfstorage-archive/pmdata/p'+person_number+'/pmsys/wellness.csv') \n",
    "    \n",
    "        if x in [8,14]:\n",
    "            preprocessing_result = preprocessing_data(person_number, calories, distance, l_act, m_act, r_heart, sedentary, sleep_score, sleep, steps, hr_zone, v_act, wellness)\n",
    "            display('P'+person_number+' extra columns dropped')\n",
    "        else:\n",
    "            preprocessing_result = preprocessing_data(person_number, calories, distance, l_act, m_act, r_heart, sedentary, sleep_score, sleep, steps, hr_zone, v_act, wellness)\n",
    "\n",
    "\n",
    "        df_list.append(preprocessing_result)\n",
    "        \n",
    "    except:\n",
    "        print(person_number+' exception from loading files')\n",
    "        pass\n",
    "        \n",
    "\n",
    "\n"
   ]
  },
  {
   "cell_type": "code",
   "execution_count": 3,
   "id": "8f02b8b2",
   "metadata": {},
   "outputs": [
    {
     "data": {
      "text/plain": [
       "14"
      ]
     },
     "execution_count": 3,
     "metadata": {},
     "output_type": "execute_result"
    }
   ],
   "source": [
    "len(df_list)"
   ]
  },
  {
   "cell_type": "code",
   "execution_count": 5,
   "id": "d529929a",
   "metadata": {},
   "outputs": [],
   "source": [
    "agg_df = pd.concat(df_list) #aggregate participants' data"
   ]
  },
  {
   "cell_type": "code",
   "execution_count": 7,
   "id": "e58b9c9c",
   "metadata": {},
   "outputs": [],
   "source": [
    "agg_df = agg_df.dropna(subset=['readiness']) #drop where readiness has nan value"
   ]
  },
  {
   "cell_type": "code",
   "execution_count": 37,
   "id": "5ac9c052",
   "metadata": {},
   "outputs": [
    {
     "name": "stdout",
     "output_type": "stream",
     "text": [
      "calories;; Not null: 1533, Null: 45\n",
      "distance;; Not null: 1571, Null: 7\n",
      "resting_heart;; Not null: 1336, Null: 242\n",
      "sleep_overall_score;; Not null: 1433, Null: 145\n",
      "sleep_composition_score;; Not null: 1433, Null: 145\n",
      "sleep_revitalization_score;; Not null: 1433, Null: 145\n",
      "sleep_duration_score;; Not null: 1433, Null: 145\n",
      "deep_sleep_in_minutes;; Not null: 1433, Null: 145\n",
      "sleep_resting_heart_rate;; Not null: 1433, Null: 145\n",
      "sleep_restlessness;; Not null: 1433, Null: 145\n",
      "sleep_duration;; Not null: 1451, Null: 127\n",
      "sleep_minutesToFallAsleep;; Not null: 1451, Null: 127\n",
      "sleep_minutesAsleep;; Not null: 1451, Null: 127\n",
      "sleep_minutesAwake;; Not null: 1451, Null: 127\n",
      "sleep_minutesAfterWakeup;; Not null: 1451, Null: 127\n",
      "sleep_timeInBed;; Not null: 1451, Null: 127\n",
      "sleep_efficiency;; Not null: 1451, Null: 127\n",
      "main_sleep;; Not null: 1451, Null: 127\n",
      "steps;; Not null: 1571, Null: 7\n",
      "hr_below_zone1;; Not null: 1544, Null: 34\n",
      "hr_zone1;; Not null: 1544, Null: 34\n",
      "hr_zone3;; Not null: 1544, Null: 34\n",
      "hr_zone2;; Not null: 1544, Null: 34\n"
     ]
    }
   ],
   "source": [
    "for x in [i for i in agg_df.columns]:\n",
    "    if agg_df[x].isnull().any() == True:\n",
    "        print(f'{x};; Not null: {agg_df[x].isnull().value_counts()[0]}, Null: {agg_df[x].isnull().value_counts()[1]}')"
   ]
  },
  {
   "cell_type": "code",
   "execution_count": null,
   "id": "023a6d0b",
   "metadata": {},
   "outputs": [],
   "source": []
  },
  {
   "cell_type": "code",
   "execution_count": null,
   "id": "cfdc6a5e",
   "metadata": {},
   "outputs": [],
   "source": []
  },
  {
   "cell_type": "code",
   "execution_count": null,
   "id": "50ab2ac0",
   "metadata": {},
   "outputs": [],
   "source": []
  }
 ],
 "metadata": {
  "kernelspec": {
   "display_name": "Python 3 (ipykernel)",
   "language": "python",
   "name": "python3"
  },
  "language_info": {
   "codemirror_mode": {
    "name": "ipython",
    "version": 3
   },
   "file_extension": ".py",
   "mimetype": "text/x-python",
   "name": "python",
   "nbconvert_exporter": "python",
   "pygments_lexer": "ipython3",
   "version": "3.9.7"
  }
 },
 "nbformat": 4,
 "nbformat_minor": 5
}
