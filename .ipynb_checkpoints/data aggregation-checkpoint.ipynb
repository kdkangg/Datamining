{
 "cells": [
  {
   "cell_type": "code",
   "execution_count": 1,
   "id": "82675ac9",
   "metadata": {},
   "outputs": [],
   "source": [
    "import pandas as pd\n",
    "import numpy as np\n",
    "from sklearn.model_selection import train_test_split, GridSearchCV\n",
    "from sklearn.impute import KNNImputer\n",
    "from sklearn.neighbors import KNeighborsClassifier\n",
    "\n",
    "pd.set_option('display.max_columns', None)\n",
    "pd.set_option('display.max_rows', None)\n",
    "\n",
    "from ipynb.fs.full.data_preprocessing_function import preprocessing_data"
   ]
  },
  {
   "cell_type": "code",
   "execution_count": 2,
   "id": "a03f95a8",
   "metadata": {},
   "outputs": [
    {
     "data": {
      "text/plain": [
       "'P01'"
      ]
     },
     "metadata": {},
     "output_type": "display_data"
    },
    {
     "data": {
      "text/plain": [
       "'P02'"
      ]
     },
     "metadata": {},
     "output_type": "display_data"
    },
    {
     "data": {
      "text/plain": [
       "'P03'"
      ]
     },
     "metadata": {},
     "output_type": "display_data"
    },
    {
     "data": {
      "text/plain": [
       "'P04'"
      ]
     },
     "metadata": {},
     "output_type": "display_data"
    },
    {
     "data": {
      "text/plain": [
       "'P05'"
      ]
     },
     "metadata": {},
     "output_type": "display_data"
    },
    {
     "data": {
      "text/plain": [
       "'P06'"
      ]
     },
     "metadata": {},
     "output_type": "display_data"
    },
    {
     "data": {
      "text/plain": [
       "'P07'"
      ]
     },
     "metadata": {},
     "output_type": "display_data"
    },
    {
     "data": {
      "text/plain": [
       "'P08'"
      ]
     },
     "metadata": {},
     "output_type": "display_data"
    },
    {
     "data": {
      "text/plain": [
       "'P08 extra columns dropped'"
      ]
     },
     "metadata": {},
     "output_type": "display_data"
    },
    {
     "data": {
      "text/plain": [
       "'P09'"
      ]
     },
     "metadata": {},
     "output_type": "display_data"
    },
    {
     "data": {
      "text/plain": [
       "'P10'"
      ]
     },
     "metadata": {},
     "output_type": "display_data"
    },
    {
     "data": {
      "text/plain": [
       "'P11'"
      ]
     },
     "metadata": {},
     "output_type": "display_data"
    },
    {
     "data": {
      "text/plain": [
       "'P12'"
      ]
     },
     "metadata": {},
     "output_type": "display_data"
    },
    {
     "name": "stdout",
     "output_type": "stream",
     "text": [
      "12 exception from loading files\n"
     ]
    },
    {
     "data": {
      "text/plain": [
       "'P13'"
      ]
     },
     "metadata": {},
     "output_type": "display_data"
    },
    {
     "name": "stdout",
     "output_type": "stream",
     "text": [
      "13 exception from loading files\n"
     ]
    },
    {
     "data": {
      "text/plain": [
       "'P14'"
      ]
     },
     "metadata": {},
     "output_type": "display_data"
    },
    {
     "data": {
      "text/plain": [
       "'P14 extra columns dropped'"
      ]
     },
     "metadata": {},
     "output_type": "display_data"
    },
    {
     "data": {
      "text/plain": [
       "'P15'"
      ]
     },
     "metadata": {},
     "output_type": "display_data"
    },
    {
     "data": {
      "text/plain": [
       "'P16'"
      ]
     },
     "metadata": {},
     "output_type": "display_data"
    }
   ],
   "source": [
    "#read data\n",
    "list_Xtrain=[]\n",
    "list_Xtest=[]\n",
    "list_ytrain=[]\n",
    "list_ytest=[]\n",
    "\n",
    "overview = pd.read_excel('../osfstorage-archive/pmdata/participant-overview.xlsx')\n",
    "overview = overview.set_axis(overview.iloc[0,:],axis='columns').set_index('Participant ID',drop=True)\n",
    "\n",
    "for x in range(1, 17):\n",
    "    person_number = x\n",
    "    \n",
    "    person_number = str('%02d' % person_number)\n",
    "\n",
    "    calories = []\n",
    "    distance = []\n",
    "    l_act = []\n",
    "    m_act = []\n",
    "    r_heart = []\n",
    "    sedentary = []\n",
    "    sleep_score = []\n",
    "    sleep = []\n",
    "    hr_zone = []\n",
    "    v_act = []\n",
    "    wellness = []\n",
    "    \n",
    "    display('P'+person_number)\n",
    "    \n",
    "    try:\n",
    "        \n",
    "        calories = pd.read_json('../osfstorage-archive/pmdata/p'+person_number+'/fitbit/calories.json')\n",
    "        distance = pd.read_json('../osfstorage-archive/pmdata/p'+person_number+'/fitbit/distance.json')\n",
    "        l_act = pd.read_json('../osfstorage-archive/pmdata/p'+person_number+'/fitbit/lightly_active_minutes.json')\n",
    "        m_act = pd.read_json('../osfstorage-archive/pmdata/p'+person_number+'/fitbit/moderately_active_minutes.json')\n",
    "        r_heart = pd.read_json('../osfstorage-archive/pmdata/p'+person_number+'/fitbit/resting_heart_rate.json')\n",
    "        sedentary = pd.read_json('../osfstorage-archive/pmdata/p'+person_number+'/fitbit/sedentary_minutes.json')\n",
    "        sleep_score = pd.read_csv('../osfstorage-archive/pmdata/p'+person_number+'/fitbit/sleep_score.csv')\n",
    "        sleep = pd.read_json('../osfstorage-archive/pmdata/p'+person_number+'/fitbit/sleep.json')\n",
    "        steps = pd.read_json('../osfstorage-archive/pmdata/p'+person_number+'/fitbit/steps.json')\n",
    "        hr_zone = pd.read_json('../osfstorage-archive/pmdata/p'+person_number+'/fitbit/time_in_heart_rate_zones.json')\n",
    "        v_act = pd.read_json('../osfstorage-archive/pmdata/p'+person_number+'/fitbit/very_active_minutes.json')\n",
    "        wellness = pd.read_csv('../osfstorage-archive/pmdata/p'+person_number+'/pmsys/wellness.csv')  \n",
    "        \n",
    "    \n",
    "        if x in [8,14]:\n",
    "            preprocessing_result = preprocessing_data(person_number, calories, distance, l_act, m_act, r_heart, sedentary, sleep_score, sleep, steps, hr_zone, v_act, wellness)\n",
    "            display('P'+person_number+' extra columns dropped')\n",
    "        else:\n",
    "            preprocessing_result = preprocessing_data(person_number, calories, distance, l_act, m_act, r_heart, sedentary, sleep_score, sleep, steps, hr_zone, v_act, wellness)\n",
    "        \n",
    "  \n",
    "\n",
    "        #handling missing values\n",
    "        preprocessing_result['readiness'] = preprocessing_result['readiness'].shift(periods=-1) #shift next date's readiness to current date\n",
    "        preprocessing_result = preprocessing_result[preprocessing_result['readiness'].notna()] #drop missing values on readiness\n",
    "        \n",
    "        #missing values filled with mean value of the column\n",
    "        preprocessing_result.loc[:,'calories'] = preprocessing_result.loc[:,'calories'].fillna(preprocessing_result.loc[:,'calories'].mean())\n",
    "        preprocessing_result.loc[:,'distance'] = preprocessing_result.loc[:,'distance'].fillna(preprocessing_result.loc[:,'distance'].mean())\n",
    "        preprocessing_result.loc[:,'l_act'] = preprocessing_result.loc[:,'l_act'].fillna(preprocessing_result.loc[:,'l_act'].mean())\n",
    "        preprocessing_result.loc[:,'m_act'] = preprocessing_result.loc[:,'m_act'].fillna(preprocessing_result.loc[:,'m_act'].mean())\n",
    "        preprocessing_result.loc[:,'resting_heart'] = preprocessing_result.loc[:,'resting_heart'].fillna(preprocessing_result.loc[:,'resting_heart'].mean())\n",
    "        preprocessing_result.loc[:,'sedentary'] = preprocessing_result.loc[:,'sedentary'].fillna(preprocessing_result.loc[:,'sedentary'].mean())\n",
    "        preprocessing_result.loc[:,'sleep_overall_score'] = preprocessing_result.loc[:,'sleep_overall_score'].fillna(preprocessing_result.loc[:,'sleep_overall_score'].mean())\n",
    "        preprocessing_result.loc[:,'sleep_composition_score'] = preprocessing_result.loc[:,'sleep_composition_score'].fillna(preprocessing_result.loc[:,'sleep_composition_score'].mean())\n",
    "        preprocessing_result.loc[:,'sleep_revitalization_score'] = preprocessing_result.loc[:,'sleep_revitalization_score'].fillna(preprocessing_result.loc[:,'sleep_revitalization_score'].mean())\n",
    "        preprocessing_result.loc[:,'sleep_duration_score'] = preprocessing_result.loc[:,'sleep_duration_score'].fillna(preprocessing_result.loc[:,'sleep_duration_score'].mean())\n",
    "        preprocessing_result.loc[:,'deep_sleep_in_minutes'] = preprocessing_result.loc[:,'deep_sleep_in_minutes'].fillna(preprocessing_result.loc[:,'deep_sleep_in_minutes'].mean())\n",
    "        preprocessing_result.loc[:,'sleep_resting_heart_rate'] = preprocessing_result.loc[:,'sleep_resting_heart_rate'].fillna(preprocessing_result.loc[:,'sleep_resting_heart_rate'].mean())\n",
    "        preprocessing_result.loc[:,'sleep_restlessness'] = preprocessing_result.loc[:,'sleep_restlessness'].fillna(preprocessing_result.loc[:,'sleep_restlessness'].mean())\n",
    "        preprocessing_result.loc[:,'sleep_duration'] = preprocessing_result.loc[:,'sleep_duration'].fillna(preprocessing_result.loc[:,'sleep_duration'].mean())\n",
    "        preprocessing_result.loc[:,'sleep_minutesAsleep'] = preprocessing_result.loc[:,'sleep_minutesAsleep'].fillna(preprocessing_result.loc[:,'sleep_minutesAsleep'].mean())\n",
    "        preprocessing_result.loc[:,'sleep_minutesAwake'] = preprocessing_result.loc[:,'sleep_minutesAwake'].fillna(preprocessing_result.loc[:,'sleep_minutesAwake'].mean())\n",
    "        preprocessing_result.loc[:,'sleep_timeInBed'] = preprocessing_result.loc[:,'sleep_timeInBed'].fillna(preprocessing_result.loc[:,'sleep_timeInBed'].mean())\n",
    "        preprocessing_result.loc[:,'sleep_efficiency'] = preprocessing_result.loc[:,'sleep_efficiency'].fillna(preprocessing_result.loc[:,'sleep_efficiency'].mean())\n",
    "        preprocessing_result.loc[:,'steps'] = preprocessing_result.loc[:,'steps'].fillna(preprocessing_result.loc[:,'steps'].mean())\n",
    "        preprocessing_result.loc[:,'hr_below_zone1'] = preprocessing_result.loc[:,'hr_below_zone1'].fillna(preprocessing_result.loc[:,'hr_below_zone1'].mean())\n",
    "        preprocessing_result.loc[:,'hr_zone1'] = preprocessing_result.loc[:,'hr_zone1'].fillna(preprocessing_result.loc[:,'hr_zone1'].mean())\n",
    "        preprocessing_result.loc[:,'hr_zone3'] = preprocessing_result.loc[:,'hr_zone3'].fillna(preprocessing_result.loc[:,'hr_zone3'].mean())\n",
    "        preprocessing_result.loc[:,'hr_zone2'] = preprocessing_result.loc[:,'hr_zone2'].fillna(preprocessing_result.loc[:,'hr_zone2'].mean())\n",
    "        preprocessing_result.loc[:,'v_act'] = preprocessing_result.loc[:,'v_act'].fillna(preprocessing_result.loc[:,'v_act'].mean())\n",
    "        \n",
    "        #using knn imputation to fill in missing values\n",
    "        #sleep_minutesToFallAsleep: mostly recorded as 0 \n",
    "        #sleep_minutesAfterWakeup: mostly recorded as 0\n",
    "        #main_sleep: categorical variable to indicate whether the sleep was main sleep\n",
    "        \n",
    "        imputer = KNNImputer(n_neighbors=3)\n",
    "        df = pd.DataFrame(imputer.fit_transform(preprocessing_result)).set_index(preprocessing_result.index)\n",
    "        df.columns = preprocessing_result.columns\n",
    "        preprocessing_result = df\n",
    "        \n",
    "        \n",
    "        #add age, height, gender data\n",
    "        preprocessing_result['age'] = overview.loc['p'+person_number,'Age']\n",
    "        preprocessing_result['height'] = overview.loc['p'+person_number,'Height']\n",
    "        if overview.loc['p'+person_number,'Gender'] == 'male':\n",
    "            preprocessing_result['gender'] = 0\n",
    "        else:\n",
    "            preprocessing_result['gender'] = 1\n",
    "        \n",
    "        #add weekend/weekdays dummy variable\n",
    "        week = ['Monday', 'Tuesday', 'Wednesday', 'Thursday', 'Friday', 'Saturday', 'Sunday']\n",
    "\n",
    "        for i, x in enumerate(week):\n",
    "            preprocessing_result[x] = (preprocessing_result.index.get_level_values(0).weekday == i).astype(int)\n",
    "        \n",
    "        X_train, X_test, y_train, y_test = train_test_split(preprocessing_result.iloc[:,1:],\n",
    "                                                            preprocessing_result.loc[:,'readiness'],\n",
    "                                                            test_size=0.25, shuffle=False)\n",
    "        list_Xtrain.append(X_train)\n",
    "        list_Xtest.append(X_test)\n",
    "        list_ytrain.append(y_train)\n",
    "        list_ytest.append(y_test)\n",
    "        \n",
    "    except:\n",
    "        print(person_number+' exception from loading files')\n",
    "        pass\n",
    "        \n",
    "\n"
   ]
  },
  {
   "cell_type": "code",
   "execution_count": 3,
   "id": "d529929a",
   "metadata": {},
   "outputs": [],
   "source": [
    "#aggregate participants' data and split into training data and test data\n",
    "agg_Xtrain = pd.concat(list_Xtrain) \n",
    "agg_Xtest = pd.concat(list_Xtest) \n",
    "agg_ytrain = pd.concat(list_ytrain) \n",
    "agg_ytest = pd.concat(list_ytest) "
   ]
  },
  {
   "cell_type": "code",
   "execution_count": 4,
   "id": "ffee8f75",
   "metadata": {},
   "outputs": [
    {
     "data": {
      "text/plain": [
       "[(1175, 37), (399, 37), (1175,), (399,)]"
      ]
     },
     "execution_count": 4,
     "metadata": {},
     "output_type": "execute_result"
    }
   ],
   "source": [
    "[i.shape for i in [agg_Xtrain, agg_Xtest, agg_ytrain, agg_ytest]] #checking shape of df"
   ]
  },
  {
   "cell_type": "code",
   "execution_count": 8,
   "id": "91496090",
   "metadata": {},
   "outputs": [],
   "source": [
    "agg_Xtrain.to_csv('agg_Xtrain.csv')\n",
    "agg_Xtest.to_csv('agg_Xtest.csv')\n",
    "agg_ytrain.to_csv('agg_ytrain.csv')\n",
    "agg_ytest.to_csv('agg_ytest.csv')"
   ]
  }
 ],
 "metadata": {
  "kernelspec": {
   "display_name": "Python 3 (ipykernel)",
   "language": "python",
   "name": "python3"
  },
  "language_info": {
   "codemirror_mode": {
    "name": "ipython",
    "version": 3
   },
   "file_extension": ".py",
   "mimetype": "text/x-python",
   "name": "python",
   "nbconvert_exporter": "python",
   "pygments_lexer": "ipython3",
   "version": "3.9.7"
  }
 },
 "nbformat": 4,
 "nbformat_minor": 5
}
