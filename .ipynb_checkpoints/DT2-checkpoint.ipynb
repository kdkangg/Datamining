{
 "cells": [
  {
   "cell_type": "code",
   "execution_count": 1,
   "id": "885d0bfb",
   "metadata": {},
   "outputs": [],
   "source": [
    "import pandas as pd\n",
    "import numpy as np\n",
    "from sklearn.tree import DecisionTreeClassifier\n",
    "from sklearn.neural_network import MLPClassifier\n",
    "from sklearn.model_selection import TimeSeriesSplit, KFold\n",
    "from sklearn.model_selection import GridSearchCV\n",
    "from sklearn.preprocessing import MinMaxScaler\n",
    "from sklearn.metrics import f1_score, precision_score, recall_score"
   ]
  },
  {
   "cell_type": "code",
   "execution_count": 2,
   "id": "7b9f7e59",
   "metadata": {},
   "outputs": [],
   "source": [
    "X_train = pd.read_csv('agg_Xtrain.csv').set_index('Unnamed: 0')\n",
    "X_test = pd.read_csv('agg_Xtest.csv').set_index('Unnamed: 0')\n",
    "y_train = pd.read_csv('agg_ytrain.csv').set_index('Unnamed: 0')\n",
    "y_test = pd.read_csv('agg_ytest.csv').set_index('Unnamed: 0')"
   ]
  },
  {
   "cell_type": "code",
   "execution_count": 5,
   "id": "7b1c069d",
   "metadata": {},
   "outputs": [],
   "source": [
    "#tscv = TimeSeriesSplit(n_splits=5)\n",
    "tscv = KFold(n_splits=5)\n",
    "params = {'criterion':['gini', 'entropy'], 'splitter':['best', 'random'], 'max_depth': [2,5,10,15,20], 'max_leaf_nodes': [2,5,10,15,20], 'min_samples_split': [2, 4, 6, 8, 10]} # 'random_state': [10, 20, 30, 40, 50]\n",
    "dec_tree = DecisionTreeClassifier()\n",
    "grid_search_cv = GridSearchCV(dec_tree, params, cv=tscv)"
   ]
  },
  {
   "cell_type": "code",
   "execution_count": null,
   "id": "acb378f0",
   "metadata": {},
   "outputs": [],
   "source": [
    "grid_search_cv.fit(X_train, y_train)\n",
    "grid_search_cv.best_params_"
   ]
  },
  {
   "cell_type": "code",
   "execution_count": null,
   "id": "32eee6c2",
   "metadata": {},
   "outputs": [],
   "source": [
    "dec_tree_parms = dec_tree.set_params(**grid_search_cv.best_params_)\n",
    "dec_tree_parms"
   ]
  },
  {
   "cell_type": "code",
   "execution_count": null,
   "id": "db3b906a",
   "metadata": {},
   "outputs": [],
   "source": [
    "dec_tree_parms.fit(X_train,y_train)\n",
    "pred = dec_tree_parms.predict(X_test)\n",
    "f1 = f1_score(y_test, pred, average='weighted')\n",
    "precision = precision_score(y_test, pred, average='weighted')\n",
    "recall = recall_score(y_test, pred, average='weighted')\n",
    "\n",
    "print(f\"precision: {precision}, recall: {recall}, f1score: {f1}\")"
   ]
  },
  {
   "cell_type": "code",
   "execution_count": null,
   "id": "65a31a8d",
   "metadata": {},
   "outputs": [],
   "source": [
    "from sklearn.metrics import confusion_matrix\n",
    "import matplotlib.pyplot as plt\n",
    "import seaborn as sns\n",
    "\n",
    "\n",
    "matrix = confusion_matrix(y_test, pred)\n",
    "matrix_normalized = confusion_matrix(y_test, pred, normalize='true')\n",
    "\n",
    "fig1, ax = plt.subplots(figsize=(10,10))\n",
    "sns.heatmap(matrix, annot=True, fmt='.2f')\n",
    "plt.title('Confusion matrix without normalization')\n",
    "plt.ylabel('Actual')\n",
    "plt.xlabel('Predicted')\n",
    "\n",
    "fig2, ax = plt.subplots(figsize=(10,10))\n",
    "sns.heatmap(matrix_normalized, annot=True, fmt='.2f')\n",
    "plt.title('Confusion matrix with normalization')\n",
    "plt.ylabel('Actual')\n",
    "plt.xlabel('Predicted')\n",
    "plt.show(block=False)"
   ]
  },
  {
   "cell_type": "code",
   "execution_count": null,
   "id": "860a7d04",
   "metadata": {},
   "outputs": [],
   "source": [
    "from sklearn import tree\n",
    "plt.figure(figsize=(30,15))\n",
    "\n",
    "tree.plot_tree(dec_tree,\n",
    "              feature_names=X_train.columns,\n",
    "              filled=True,\n",
    "              fontsize=11)"
   ]
  },
  {
   "cell_type": "code",
   "execution_count": null,
   "id": "fcf700a1",
   "metadata": {},
   "outputs": [],
   "source": []
  },
  {
   "cell_type": "code",
   "execution_count": null,
   "id": "b417fab2",
   "metadata": {},
   "outputs": [],
   "source": []
  }
 ],
 "metadata": {
  "kernelspec": {
   "display_name": "Python 3 (ipykernel)",
   "language": "python",
   "name": "python3"
  },
  "language_info": {
   "codemirror_mode": {
    "name": "ipython",
    "version": 3
   },
   "file_extension": ".py",
   "mimetype": "text/x-python",
   "name": "python",
   "nbconvert_exporter": "python",
   "pygments_lexer": "ipython3",
   "version": "3.9.7"
  }
 },
 "nbformat": 4,
 "nbformat_minor": 5
}
