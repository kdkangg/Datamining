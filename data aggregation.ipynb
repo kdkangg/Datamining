{
 "cells": [
  {
   "cell_type": "code",
   "execution_count": 1,
   "id": "82675ac9",
   "metadata": {},
   "outputs": [],
   "source": [
    "import pandas as pd\n",
    "import numpy as np\n",
    "\n",
    "from ipynb.fs.full.data_preprocessing_function import preprocessing_data"
   ]
  },
  {
   "cell_type": "code",
   "execution_count": 2,
   "id": "a03f95a8",
   "metadata": {},
   "outputs": [
    {
     "data": {
      "text/plain": [
       "'P01'"
      ]
     },
     "metadata": {},
     "output_type": "display_data"
    },
    {
     "data": {
      "text/plain": [
       "'P02'"
      ]
     },
     "metadata": {},
     "output_type": "display_data"
    },
    {
     "data": {
      "text/plain": [
       "'P03'"
      ]
     },
     "metadata": {},
     "output_type": "display_data"
    },
    {
     "data": {
      "text/plain": [
       "'P04'"
      ]
     },
     "metadata": {},
     "output_type": "display_data"
    },
    {
     "data": {
      "text/plain": [
       "'P05'"
      ]
     },
     "metadata": {},
     "output_type": "display_data"
    },
    {
     "data": {
      "text/plain": [
       "'P06'"
      ]
     },
     "metadata": {},
     "output_type": "display_data"
    },
    {
     "data": {
      "text/plain": [
       "'P07'"
      ]
     },
     "metadata": {},
     "output_type": "display_data"
    },
    {
     "data": {
      "text/plain": [
       "'P08'"
      ]
     },
     "metadata": {},
     "output_type": "display_data"
    },
    {
     "data": {
      "text/plain": [
       "'P08 extra columns dropped'"
      ]
     },
     "metadata": {},
     "output_type": "display_data"
    },
    {
     "data": {
      "text/plain": [
       "'P09'"
      ]
     },
     "metadata": {},
     "output_type": "display_data"
    },
    {
     "data": {
      "text/plain": [
       "'P10'"
      ]
     },
     "metadata": {},
     "output_type": "display_data"
    },
    {
     "data": {
      "text/plain": [
       "'P11'"
      ]
     },
     "metadata": {},
     "output_type": "display_data"
    },
    {
     "data": {
      "text/plain": [
       "'P12'"
      ]
     },
     "metadata": {},
     "output_type": "display_data"
    },
    {
     "name": "stdout",
     "output_type": "stream",
     "text": [
      "12 exception from loading files\n"
     ]
    },
    {
     "data": {
      "text/plain": [
       "'P13'"
      ]
     },
     "metadata": {},
     "output_type": "display_data"
    },
    {
     "name": "stdout",
     "output_type": "stream",
     "text": [
      "13 exception from loading files\n"
     ]
    },
    {
     "data": {
      "text/plain": [
       "'P14'"
      ]
     },
     "metadata": {},
     "output_type": "display_data"
    },
    {
     "data": {
      "text/plain": [
       "'P14 extra columns dropped'"
      ]
     },
     "metadata": {},
     "output_type": "display_data"
    },
    {
     "data": {
      "text/plain": [
       "'P15'"
      ]
     },
     "metadata": {},
     "output_type": "display_data"
    },
    {
     "data": {
      "text/plain": [
       "'P16'"
      ]
     },
     "metadata": {},
     "output_type": "display_data"
    }
   ],
   "source": [
    "#read data\n",
    "df_list=[]\n",
    "overview = pd.read_excel('../osfstorage-archive/pmdata/participant-overview.xlsx')\n",
    "overview = overview.set_axis(overview.iloc[0,:],axis='columns').set_index('Participant ID',drop=True)\n",
    "\n",
    "for x in range(1, 17):\n",
    "    person_number = x\n",
    "    \n",
    "    person_number = str('%02d' % person_number)\n",
    "\n",
    "    calories = []\n",
    "    distance = []\n",
    "    l_act = []\n",
    "    m_act = []\n",
    "    r_heart = []\n",
    "    sedentary = []\n",
    "    sleep_score = []\n",
    "    sleep = []\n",
    "    hr_zone = []\n",
    "    v_act = []\n",
    "    wellness = []\n",
    "    \n",
    "    display('P'+person_number)\n",
    "    \n",
    "    try:\n",
    "        \n",
    "        calories = pd.read_json('../osfstorage-archive/pmdata/p'+person_number+'/fitbit/calories.json')\n",
    "        distance = pd.read_json('../osfstorage-archive/pmdata/p'+person_number+'/fitbit/distance.json')\n",
    "        l_act = pd.read_json('../osfstorage-archive/pmdata/p'+person_number+'/fitbit/lightly_active_minutes.json')\n",
    "        m_act = pd.read_json('../osfstorage-archive/pmdata/p'+person_number+'/fitbit/moderately_active_minutes.json')\n",
    "        r_heart = pd.read_json('../osfstorage-archive/pmdata/p'+person_number+'/fitbit/resting_heart_rate.json')\n",
    "        sedentary = pd.read_json('../osfstorage-archive/pmdata/p'+person_number+'/fitbit/sedentary_minutes.json')\n",
    "        sleep_score = pd.read_csv('../osfstorage-archive/pmdata/p'+person_number+'/fitbit/sleep_score.csv')\n",
    "        sleep = pd.read_json('../osfstorage-archive/pmdata/p'+person_number+'/fitbit/sleep.json')\n",
    "        steps = pd.read_json('../osfstorage-archive/pmdata/p'+person_number+'/fitbit/steps.json')\n",
    "        hr_zone = pd.read_json('../osfstorage-archive/pmdata/p'+person_number+'/fitbit/time_in_heart_rate_zones.json')\n",
    "        v_act = pd.read_json('../osfstorage-archive/pmdata/p'+person_number+'/fitbit/very_active_minutes.json')\n",
    "        wellness = pd.read_csv('../osfstorage-archive/pmdata/p'+person_number+'/pmsys/wellness.csv')  \n",
    "        \n",
    "    \n",
    "        if x in [8,14]:\n",
    "            preprocessing_result = preprocessing_data(person_number, calories, distance, l_act, m_act, r_heart, sedentary, sleep_score, sleep, steps, hr_zone, v_act, wellness)\n",
    "            display('P'+person_number+' extra columns dropped')\n",
    "        else:\n",
    "            preprocessing_result = preprocessing_data(person_number, calories, distance, l_act, m_act, r_heart, sedentary, sleep_score, sleep, steps, hr_zone, v_act, wellness)\n",
    "        \n",
    "  \n",
    "\n",
    "        #handling missing values\n",
    "        preprocessing_result['readiness'] = preprocessing_result['readiness'].shift(periods=-1) #shift next date's readiness to current date\n",
    "        preprocessing_result = preprocessing_result[preprocessing_result['readiness'].notna()] #drop missing values on readiness\n",
    "        \n",
    "        #missing values filled with mean value of the column\n",
    "        preprocessing_result.loc[:,'calories'] = preprocessing_result.loc[:,'calories'].fillna(preprocessing_result.loc[:,'calories'].mean())\n",
    "        preprocessing_result.loc[:,'distance'] = preprocessing_result.loc[:,'distance'].fillna(preprocessing_result.loc[:,'distance'].mean())\n",
    "        preprocessing_result.loc[:,'l_act'] = preprocessing_result.loc[:,'l_act'].fillna(preprocessing_result.loc[:,'l_act'].mean())\n",
    "        preprocessing_result.loc[:,'m_act'] = preprocessing_result.loc[:,'m_act'].fillna(preprocessing_result.loc[:,'m_act'].mean())\n",
    "        preprocessing_result.loc[:,'resting_heart'] = preprocessing_result.loc[:,'resting_heart'].fillna(preprocessing_result.loc[:,'resting_heart'].mean())\n",
    "        preprocessing_result.loc[:,'sedentary'] = preprocessing_result.loc[:,'sedentary'].fillna(preprocessing_result.loc[:,'sedentary'].mean())\n",
    "        preprocessing_result.loc[:,'sleep_overall_score'] = preprocessing_result.loc[:,'sleep_overall_score'].fillna(preprocessing_result.loc[:,'sleep_overall_score'].mean())\n",
    "        preprocessing_result.loc[:,'sleep_composition_score'] = preprocessing_result.loc[:,'sleep_composition_score'].fillna(preprocessing_result.loc[:,'sleep_composition_score'].mean())\n",
    "        preprocessing_result.loc[:,'sleep_revitalization_score'] = preprocessing_result.loc[:,'sleep_revitalization_score'].fillna(preprocessing_result.loc[:,'sleep_revitalization_score'].mean())\n",
    "        preprocessing_result.loc[:,'sleep_duration_score'] = preprocessing_result.loc[:,'sleep_duration_score'].fillna(preprocessing_result.loc[:,'sleep_duration_score'].mean())\n",
    "        preprocessing_result.loc[:,'deep_sleep_in_minutes'] = preprocessing_result.loc[:,'deep_sleep_in_minutes'].fillna(preprocessing_result.loc[:,'deep_sleep_in_minutes'].mean())\n",
    "        preprocessing_result.loc[:,'sleep_resting_heart_rate'] = preprocessing_result.loc[:,'sleep_resting_heart_rate'].fillna(preprocessing_result.loc[:,'sleep_resting_heart_rate'].mean())\n",
    "        preprocessing_result.loc[:,'sleep_restlessness'] = preprocessing_result.loc[:,'sleep_restlessness'].fillna(preprocessing_result.loc[:,'sleep_restlessness'].mean())\n",
    "        preprocessing_result.loc[:,'sleep_duration'] = preprocessing_result.loc[:,'sleep_duration'].fillna(preprocessing_result.loc[:,'sleep_duration'].mean())\n",
    "        preprocessing_result.loc[:,'sleep_minutesAsleep'] = preprocessing_result.loc[:,'sleep_minutesAsleep'].fillna(preprocessing_result.loc[:,'sleep_minutesAsleep'].mean())\n",
    "        preprocessing_result.loc[:,'sleep_minutesAwake'] = preprocessing_result.loc[:,'sleep_minutesAwake'].fillna(preprocessing_result.loc[:,'sleep_minutesAwake'].mean())\n",
    "        preprocessing_result.loc[:,'sleep_timeInBed'] = preprocessing_result.loc[:,'sleep_timeInBed'].fillna(preprocessing_result.loc[:,'sleep_timeInBed'].mean())\n",
    "        preprocessing_result.loc[:,'sleep_efficiency'] = preprocessing_result.loc[:,'sleep_efficiency'].fillna(preprocessing_result.loc[:,'sleep_efficiency'].mean())\n",
    "        preprocessing_result.loc[:,'steps'] = preprocessing_result.loc[:,'steps'].fillna(preprocessing_result.loc[:,'steps'].mean())\n",
    "        preprocessing_result.loc[:,'hr_below_zone1'] = preprocessing_result.loc[:,'hr_below_zone1'].fillna(preprocessing_result.loc[:,'hr_below_zone1'].mean())\n",
    "        preprocessing_result.loc[:,'hr_zone1'] = preprocessing_result.loc[:,'hr_zone1'].fillna(preprocessing_result.loc[:,'hr_zone1'].mean())\n",
    "        preprocessing_result.loc[:,'hr_zone3'] = preprocessing_result.loc[:,'hr_zone3'].fillna(preprocessing_result.loc[:,'hr_zone3'].mean())\n",
    "        preprocessing_result.loc[:,'hr_zone2'] = preprocessing_result.loc[:,'hr_zone2'].fillna(preprocessing_result.loc[:,'hr_zone2'].mean())\n",
    "        preprocessing_result.loc[:,'v_act'] = preprocessing_result.loc[:,'v_act'].fillna(preprocessing_result.loc[:,'v_act'].mean())\n",
    "        \n",
    "        #missing values filled with certain value(mode)\n",
    "        preprocessing_result.loc[:,'sleep_minutesToFallAsleep'] = preprocessing_result.loc[:,'sleep_minutesToFallAsleep'].fillna(0)\n",
    "        preprocessing_result.loc[:,'sleep_minutesAfterWakeup'] = preprocessing_result.loc[:,'sleep_minutesAfterWakeup'].fillna(0)\n",
    "        preprocessing_result.loc[:,'main_sleep'] = preprocessing_result.loc[:,'main_sleep'].fillna(1)\n",
    "        \n",
    "        #add age, height, gender data\n",
    "        preprocessing_result['age'] = overview.loc['p'+person_number,'Age']\n",
    "        preprocessing_result['height'] = overview.loc['p'+person_number,'Height']\n",
    "        if overview.loc['p'+person_number,'Gender'] == 'male':\n",
    "            preprocessing_result['gender'] = 0\n",
    "        else:\n",
    "            preprocessing_result['gender'] = 1\n",
    "        \n",
    "        #add weekend/weekdays dummy variable\n",
    "        week = ['Monday', 'Tuesday', 'Wednesday', 'Thursday', 'Friday', 'Saturday', 'Sunday']\n",
    "\n",
    "        for i, x in enumerate(week):\n",
    "            preprocessing_result[x] = (preprocessing_result.index.get_level_values(0).weekday == i).astype(int)\n",
    "        \n",
    "\n",
    "        df_list.append(preprocessing_result)\n",
    "        \n",
    "    except:\n",
    "        print(person_number+' exception from loading files')\n",
    "        pass\n",
    "        \n",
    "\n"
   ]
  },
  {
   "cell_type": "code",
   "execution_count": 3,
   "id": "8f02b8b2",
   "metadata": {},
   "outputs": [
    {
     "data": {
      "text/plain": [
       "14"
      ]
     },
     "execution_count": 3,
     "metadata": {},
     "output_type": "execute_result"
    }
   ],
   "source": [
    "len(df_list)"
   ]
  },
  {
   "cell_type": "code",
   "execution_count": 4,
   "id": "d529929a",
   "metadata": {},
   "outputs": [],
   "source": [
    "agg_df = pd.concat(df_list) #aggregate participants' data"
   ]
  },
  {
   "cell_type": "code",
   "execution_count": 5,
   "id": "6dd1d357-ec21-4ea7-b047-e0796fc3e432",
   "metadata": {},
   "outputs": [],
   "source": [
    "df = agg_df.reset_index(drop=True)"
   ]
  },
  {
   "cell_type": "code",
   "execution_count": 6,
   "id": "d4ff6907-844c-4880-a2a5-d451f369b490",
   "metadata": {},
   "outputs": [
    {
     "data": {
      "text/html": [
       "<div>\n",
       "<style scoped>\n",
       "    .dataframe tbody tr th:only-of-type {\n",
       "        vertical-align: middle;\n",
       "    }\n",
       "\n",
       "    .dataframe tbody tr th {\n",
       "        vertical-align: top;\n",
       "    }\n",
       "\n",
       "    .dataframe thead th {\n",
       "        text-align: right;\n",
       "    }\n",
       "</style>\n",
       "<table border=\"1\" class=\"dataframe\">\n",
       "  <thead>\n",
       "    <tr style=\"text-align: right;\">\n",
       "      <th></th>\n",
       "      <th>readiness</th>\n",
       "      <th>calories</th>\n",
       "      <th>distance</th>\n",
       "      <th>l_act</th>\n",
       "      <th>m_act</th>\n",
       "      <th>resting_heart</th>\n",
       "      <th>sedentary</th>\n",
       "      <th>sleep_overall_score</th>\n",
       "      <th>sleep_composition_score</th>\n",
       "      <th>sleep_revitalization_score</th>\n",
       "      <th>...</th>\n",
       "      <th>age</th>\n",
       "      <th>height</th>\n",
       "      <th>gender</th>\n",
       "      <th>Monday</th>\n",
       "      <th>Tuesday</th>\n",
       "      <th>Wednesday</th>\n",
       "      <th>Thursday</th>\n",
       "      <th>Friday</th>\n",
       "      <th>Saturday</th>\n",
       "      <th>Sunday</th>\n",
       "    </tr>\n",
       "  </thead>\n",
       "  <tbody>\n",
       "    <tr>\n",
       "      <th>0</th>\n",
       "      <td>6.0</td>\n",
       "      <td>4009.10</td>\n",
       "      <td>1442400.0</td>\n",
       "      <td>245.0</td>\n",
       "      <td>58.0</td>\n",
       "      <td>53.741074</td>\n",
       "      <td>636.0</td>\n",
       "      <td>76.000000</td>\n",
       "      <td>18.00000</td>\n",
       "      <td>20.000000</td>\n",
       "      <td>...</td>\n",
       "      <td>48</td>\n",
       "      <td>195</td>\n",
       "      <td>0</td>\n",
       "      <td>0</td>\n",
       "      <td>0</td>\n",
       "      <td>0</td>\n",
       "      <td>0</td>\n",
       "      <td>1</td>\n",
       "      <td>0</td>\n",
       "      <td>0</td>\n",
       "    </tr>\n",
       "    <tr>\n",
       "      <th>1</th>\n",
       "      <td>8.0</td>\n",
       "      <td>3533.56</td>\n",
       "      <td>1058480.0</td>\n",
       "      <td>202.0</td>\n",
       "      <td>43.0</td>\n",
       "      <td>52.881497</td>\n",
       "      <td>709.0</td>\n",
       "      <td>79.000000</td>\n",
       "      <td>20.00000</td>\n",
       "      <td>22.000000</td>\n",
       "      <td>...</td>\n",
       "      <td>48</td>\n",
       "      <td>195</td>\n",
       "      <td>0</td>\n",
       "      <td>0</td>\n",
       "      <td>0</td>\n",
       "      <td>0</td>\n",
       "      <td>0</td>\n",
       "      <td>0</td>\n",
       "      <td>1</td>\n",
       "      <td>0</td>\n",
       "    </tr>\n",
       "    <tr>\n",
       "      <th>2</th>\n",
       "      <td>8.0</td>\n",
       "      <td>3748.73</td>\n",
       "      <td>1146085.0</td>\n",
       "      <td>262.0</td>\n",
       "      <td>63.0</td>\n",
       "      <td>53.222024</td>\n",
       "      <td>648.0</td>\n",
       "      <td>71.000000</td>\n",
       "      <td>16.00000</td>\n",
       "      <td>17.000000</td>\n",
       "      <td>...</td>\n",
       "      <td>48</td>\n",
       "      <td>195</td>\n",
       "      <td>0</td>\n",
       "      <td>0</td>\n",
       "      <td>0</td>\n",
       "      <td>0</td>\n",
       "      <td>0</td>\n",
       "      <td>0</td>\n",
       "      <td>0</td>\n",
       "      <td>1</td>\n",
       "    </tr>\n",
       "    <tr>\n",
       "      <th>3</th>\n",
       "      <td>8.0</td>\n",
       "      <td>3353.38</td>\n",
       "      <td>885970.0</td>\n",
       "      <td>230.0</td>\n",
       "      <td>23.0</td>\n",
       "      <td>54.311141</td>\n",
       "      <td>760.0</td>\n",
       "      <td>68.000000</td>\n",
       "      <td>15.00000</td>\n",
       "      <td>15.000000</td>\n",
       "      <td>...</td>\n",
       "      <td>48</td>\n",
       "      <td>195</td>\n",
       "      <td>0</td>\n",
       "      <td>1</td>\n",
       "      <td>0</td>\n",
       "      <td>0</td>\n",
       "      <td>0</td>\n",
       "      <td>0</td>\n",
       "      <td>0</td>\n",
       "      <td>0</td>\n",
       "    </tr>\n",
       "    <tr>\n",
       "      <th>4</th>\n",
       "      <td>5.0</td>\n",
       "      <td>3794.63</td>\n",
       "      <td>1371470.0</td>\n",
       "      <td>263.0</td>\n",
       "      <td>22.0</td>\n",
       "      <td>52.259110</td>\n",
       "      <td>737.0</td>\n",
       "      <td>73.000000</td>\n",
       "      <td>15.00000</td>\n",
       "      <td>22.000000</td>\n",
       "      <td>...</td>\n",
       "      <td>48</td>\n",
       "      <td>195</td>\n",
       "      <td>0</td>\n",
       "      <td>0</td>\n",
       "      <td>1</td>\n",
       "      <td>0</td>\n",
       "      <td>0</td>\n",
       "      <td>0</td>\n",
       "      <td>0</td>\n",
       "      <td>0</td>\n",
       "    </tr>\n",
       "    <tr>\n",
       "      <th>...</th>\n",
       "      <td>...</td>\n",
       "      <td>...</td>\n",
       "      <td>...</td>\n",
       "      <td>...</td>\n",
       "      <td>...</td>\n",
       "      <td>...</td>\n",
       "      <td>...</td>\n",
       "      <td>...</td>\n",
       "      <td>...</td>\n",
       "      <td>...</td>\n",
       "      <td>...</td>\n",
       "      <td>...</td>\n",
       "      <td>...</td>\n",
       "      <td>...</td>\n",
       "      <td>...</td>\n",
       "      <td>...</td>\n",
       "      <td>...</td>\n",
       "      <td>...</td>\n",
       "      <td>...</td>\n",
       "      <td>...</td>\n",
       "      <td>...</td>\n",
       "    </tr>\n",
       "    <tr>\n",
       "      <th>1569</th>\n",
       "      <td>4.0</td>\n",
       "      <td>1806.94</td>\n",
       "      <td>39380.0</td>\n",
       "      <td>44.0</td>\n",
       "      <td>0.0</td>\n",
       "      <td>67.858628</td>\n",
       "      <td>1265.0</td>\n",
       "      <td>75.858974</td>\n",
       "      <td>18.75641</td>\n",
       "      <td>20.205128</td>\n",
       "      <td>...</td>\n",
       "      <td>23</td>\n",
       "      <td>182</td>\n",
       "      <td>0</td>\n",
       "      <td>0</td>\n",
       "      <td>0</td>\n",
       "      <td>0</td>\n",
       "      <td>0</td>\n",
       "      <td>0</td>\n",
       "      <td>1</td>\n",
       "      <td>0</td>\n",
       "    </tr>\n",
       "    <tr>\n",
       "      <th>1570</th>\n",
       "      <td>4.0</td>\n",
       "      <td>2012.78</td>\n",
       "      <td>104990.0</td>\n",
       "      <td>97.0</td>\n",
       "      <td>0.0</td>\n",
       "      <td>70.858031</td>\n",
       "      <td>1053.0</td>\n",
       "      <td>56.000000</td>\n",
       "      <td>16.00000</td>\n",
       "      <td>17.000000</td>\n",
       "      <td>...</td>\n",
       "      <td>23</td>\n",
       "      <td>182</td>\n",
       "      <td>0</td>\n",
       "      <td>0</td>\n",
       "      <td>1</td>\n",
       "      <td>0</td>\n",
       "      <td>0</td>\n",
       "      <td>0</td>\n",
       "      <td>0</td>\n",
       "      <td>0</td>\n",
       "    </tr>\n",
       "    <tr>\n",
       "      <th>1571</th>\n",
       "      <td>4.0</td>\n",
       "      <td>1872.44</td>\n",
       "      <td>25040.0</td>\n",
       "      <td>46.0</td>\n",
       "      <td>0.0</td>\n",
       "      <td>68.034163</td>\n",
       "      <td>1394.0</td>\n",
       "      <td>75.858974</td>\n",
       "      <td>18.75641</td>\n",
       "      <td>20.205128</td>\n",
       "      <td>...</td>\n",
       "      <td>23</td>\n",
       "      <td>182</td>\n",
       "      <td>0</td>\n",
       "      <td>0</td>\n",
       "      <td>0</td>\n",
       "      <td>0</td>\n",
       "      <td>0</td>\n",
       "      <td>0</td>\n",
       "      <td>1</td>\n",
       "      <td>0</td>\n",
       "    </tr>\n",
       "    <tr>\n",
       "      <th>1572</th>\n",
       "      <td>4.0</td>\n",
       "      <td>2079.65</td>\n",
       "      <td>181440.0</td>\n",
       "      <td>113.0</td>\n",
       "      <td>0.0</td>\n",
       "      <td>68.578318</td>\n",
       "      <td>762.0</td>\n",
       "      <td>89.000000</td>\n",
       "      <td>22.00000</td>\n",
       "      <td>23.000000</td>\n",
       "      <td>...</td>\n",
       "      <td>23</td>\n",
       "      <td>182</td>\n",
       "      <td>0</td>\n",
       "      <td>1</td>\n",
       "      <td>0</td>\n",
       "      <td>0</td>\n",
       "      <td>0</td>\n",
       "      <td>0</td>\n",
       "      <td>0</td>\n",
       "      <td>0</td>\n",
       "    </tr>\n",
       "    <tr>\n",
       "      <th>1573</th>\n",
       "      <td>4.0</td>\n",
       "      <td>1953.83</td>\n",
       "      <td>94900.0</td>\n",
       "      <td>96.0</td>\n",
       "      <td>0.0</td>\n",
       "      <td>70.084687</td>\n",
       "      <td>982.0</td>\n",
       "      <td>69.000000</td>\n",
       "      <td>19.00000</td>\n",
       "      <td>16.000000</td>\n",
       "      <td>...</td>\n",
       "      <td>23</td>\n",
       "      <td>182</td>\n",
       "      <td>0</td>\n",
       "      <td>0</td>\n",
       "      <td>1</td>\n",
       "      <td>0</td>\n",
       "      <td>0</td>\n",
       "      <td>0</td>\n",
       "      <td>0</td>\n",
       "      <td>0</td>\n",
       "    </tr>\n",
       "  </tbody>\n",
       "</table>\n",
       "<p>1574 rows × 38 columns</p>\n",
       "</div>"
      ],
      "text/plain": [
       "      readiness  calories   distance  l_act  m_act  resting_heart  sedentary  \\\n",
       "0           6.0   4009.10  1442400.0  245.0   58.0      53.741074      636.0   \n",
       "1           8.0   3533.56  1058480.0  202.0   43.0      52.881497      709.0   \n",
       "2           8.0   3748.73  1146085.0  262.0   63.0      53.222024      648.0   \n",
       "3           8.0   3353.38   885970.0  230.0   23.0      54.311141      760.0   \n",
       "4           5.0   3794.63  1371470.0  263.0   22.0      52.259110      737.0   \n",
       "...         ...       ...        ...    ...    ...            ...        ...   \n",
       "1569        4.0   1806.94    39380.0   44.0    0.0      67.858628     1265.0   \n",
       "1570        4.0   2012.78   104990.0   97.0    0.0      70.858031     1053.0   \n",
       "1571        4.0   1872.44    25040.0   46.0    0.0      68.034163     1394.0   \n",
       "1572        4.0   2079.65   181440.0  113.0    0.0      68.578318      762.0   \n",
       "1573        4.0   1953.83    94900.0   96.0    0.0      70.084687      982.0   \n",
       "\n",
       "      sleep_overall_score  sleep_composition_score  \\\n",
       "0               76.000000                 18.00000   \n",
       "1               79.000000                 20.00000   \n",
       "2               71.000000                 16.00000   \n",
       "3               68.000000                 15.00000   \n",
       "4               73.000000                 15.00000   \n",
       "...                   ...                      ...   \n",
       "1569            75.858974                 18.75641   \n",
       "1570            56.000000                 16.00000   \n",
       "1571            75.858974                 18.75641   \n",
       "1572            89.000000                 22.00000   \n",
       "1573            69.000000                 19.00000   \n",
       "\n",
       "      sleep_revitalization_score  ...  age  height  gender  Monday  Tuesday  \\\n",
       "0                      20.000000  ...   48     195       0       0        0   \n",
       "1                      22.000000  ...   48     195       0       0        0   \n",
       "2                      17.000000  ...   48     195       0       0        0   \n",
       "3                      15.000000  ...   48     195       0       1        0   \n",
       "4                      22.000000  ...   48     195       0       0        1   \n",
       "...                          ...  ...  ...     ...     ...     ...      ...   \n",
       "1569                   20.205128  ...   23     182       0       0        0   \n",
       "1570                   17.000000  ...   23     182       0       0        1   \n",
       "1571                   20.205128  ...   23     182       0       0        0   \n",
       "1572                   23.000000  ...   23     182       0       1        0   \n",
       "1573                   16.000000  ...   23     182       0       0        1   \n",
       "\n",
       "      Wednesday  Thursday  Friday  Saturday  Sunday  \n",
       "0             0         0       1         0       0  \n",
       "1             0         0       0         1       0  \n",
       "2             0         0       0         0       1  \n",
       "3             0         0       0         0       0  \n",
       "4             0         0       0         0       0  \n",
       "...         ...       ...     ...       ...     ...  \n",
       "1569          0         0       0         1       0  \n",
       "1570          0         0       0         0       0  \n",
       "1571          0         0       0         1       0  \n",
       "1572          0         0       0         0       0  \n",
       "1573          0         0       0         0       0  \n",
       "\n",
       "[1574 rows x 38 columns]"
      ]
     },
     "execution_count": 6,
     "metadata": {},
     "output_type": "execute_result"
    }
   ],
   "source": [
    "df"
   ]
  },
  {
   "cell_type": "code",
   "execution_count": 7,
   "id": "6ce32714-7c13-4d2f-a599-5ae65a7bae4d",
   "metadata": {},
   "outputs": [
    {
     "data": {
      "text/plain": [
       "[False    1574\n",
       " Name: readiness, dtype: int64,\n",
       " False    1574\n",
       " Name: calories, dtype: int64,\n",
       " False    1574\n",
       " Name: distance, dtype: int64,\n",
       " False    1574\n",
       " Name: l_act, dtype: int64,\n",
       " False    1574\n",
       " Name: m_act, dtype: int64,\n",
       " False    1574\n",
       " Name: resting_heart, dtype: int64,\n",
       " False    1574\n",
       " Name: sedentary, dtype: int64,\n",
       " False    1574\n",
       " Name: sleep_overall_score, dtype: int64,\n",
       " False    1574\n",
       " Name: sleep_composition_score, dtype: int64,\n",
       " False    1574\n",
       " Name: sleep_revitalization_score, dtype: int64,\n",
       " False    1574\n",
       " Name: sleep_duration_score, dtype: int64,\n",
       " False    1574\n",
       " Name: deep_sleep_in_minutes, dtype: int64,\n",
       " False    1574\n",
       " Name: sleep_resting_heart_rate, dtype: int64,\n",
       " False    1574\n",
       " Name: sleep_restlessness, dtype: int64,\n",
       " False    1574\n",
       " Name: sleep_duration, dtype: int64,\n",
       " False    1574\n",
       " Name: sleep_minutesToFallAsleep, dtype: int64,\n",
       " False    1574\n",
       " Name: sleep_minutesAsleep, dtype: int64,\n",
       " False    1574\n",
       " Name: sleep_minutesAwake, dtype: int64,\n",
       " False    1574\n",
       " Name: sleep_minutesAfterWakeup, dtype: int64,\n",
       " False    1574\n",
       " Name: sleep_timeInBed, dtype: int64,\n",
       " False    1574\n",
       " Name: sleep_efficiency, dtype: int64,\n",
       " False    1574\n",
       " Name: main_sleep, dtype: int64,\n",
       " False    1574\n",
       " Name: steps, dtype: int64,\n",
       " False    1574\n",
       " Name: hr_below_zone1, dtype: int64,\n",
       " False    1574\n",
       " Name: hr_zone1, dtype: int64,\n",
       " False    1574\n",
       " Name: hr_zone3, dtype: int64,\n",
       " False    1574\n",
       " Name: hr_zone2, dtype: int64,\n",
       " False    1574\n",
       " Name: v_act, dtype: int64,\n",
       " False    1574\n",
       " Name: age, dtype: int64,\n",
       " False    1574\n",
       " Name: height, dtype: int64,\n",
       " False    1574\n",
       " Name: gender, dtype: int64,\n",
       " False    1574\n",
       " Name: Monday, dtype: int64,\n",
       " False    1574\n",
       " Name: Tuesday, dtype: int64,\n",
       " False    1574\n",
       " Name: Wednesday, dtype: int64,\n",
       " False    1574\n",
       " Name: Thursday, dtype: int64,\n",
       " False    1574\n",
       " Name: Friday, dtype: int64,\n",
       " False    1574\n",
       " Name: Saturday, dtype: int64,\n",
       " False    1574\n",
       " Name: Sunday, dtype: int64]"
      ]
     },
     "execution_count": 7,
     "metadata": {},
     "output_type": "execute_result"
    }
   ],
   "source": [
    "[df[i].isna().value_counts() for i in df.columns]"
   ]
  }
 ],
 "metadata": {
  "kernelspec": {
   "display_name": "Python 3 (ipykernel)",
   "language": "python",
   "name": "python3"
  },
  "language_info": {
   "codemirror_mode": {
    "name": "ipython",
    "version": 3
   },
   "file_extension": ".py",
   "mimetype": "text/x-python",
   "name": "python",
   "nbconvert_exporter": "python",
   "pygments_lexer": "ipython3",
   "version": "3.9.7"
  }
 },
 "nbformat": 4,
 "nbformat_minor": 5
}
